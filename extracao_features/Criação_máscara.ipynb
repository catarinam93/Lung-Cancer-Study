{
 "cells": [
  {
   "cell_type": "markdown",
   "id": "cb596cd5",
   "metadata": {},
   "source": [
    "# Mask creation"
   ]
  },
  {
   "cell_type": "markdown",
   "id": "7450041a",
   "metadata": {},
   "source": [
    "#### Note: run inside an environment with numpy==1.20.3 e pylidc==0.2.2"
   ]
  },
  {
   "cell_type": "code",
   "execution_count": 22,
   "id": "25d277ca",
   "metadata": {},
   "outputs": [],
   "source": [
    "import os\n",
    "import six\n",
    "import pickle\n",
    "import pandas as pd\n",
    "import SimpleITK as sitk\n",
    "from functools import reduce\n",
    "import numpy as np\n",
    "from skimage.measure import find_contours\n",
    "import pylidc as pl\n",
    "from pylidc.utils import consensus\n",
    "import matplotlib.pyplot as plt"
   ]
  },
  {
   "cell_type": "markdown",
   "id": "457d3eda",
   "metadata": {},
   "source": [
    "### Criação Máscara"
   ]
  },
  {
   "cell_type": "code",
   "execution_count": 25,
   "id": "f0ff1957",
   "metadata": {},
   "outputs": [],
   "source": [
    "def mask_creation(pid):\n",
    "    patient_scans = pl.query(pl.Scan).filter(pl.Scan.patient_id == pid)\n",
    "    scan = patient_scans.first()\n",
    "    nods = scan.cluster_annotations()\n",
    "    anns = scan.annotations\n",
    "    ann = anns[0]\n",
    "    c = ann.contours[0]\n",
    "    mask = ann.boolean_mask()\n",
    "    anns = nods[0]\n",
    "    \n",
    "    # Perform concensus consolidation and pad slices for visualization\n",
    "    cmask, cbbox, masks = consensus(anns, clevel=0.5, pad=[(20,20), (20,20), (0,0)])\n",
    "    \n",
    "    return cmask"
   ]
  },
  {
   "cell_type": "code",
   "execution_count": 30,
   "id": "a949fca2",
   "metadata": {
    "scrolled": true
   },
   "outputs": [
    {
     "name": "stdout",
     "output_type": "stream",
     "text": [
      "/home/cmonteiro/Aulas/Laboratório de IA e CD/Projeto 1/Imagens/manifest-1600709154662/LIDC-IDRI/LICENSE_mask\n",
      "/home/cmonteiro/Aulas/Laboratório de IA e CD/Projeto 1/Imagens/manifest-1600709154662/LIDC-IDRI/LICENSE_mask\n",
      "/home/cmonteiro/Aulas/Laboratório de IA e CD/Projeto 1/Imagens/manifest-1600709154662/LIDC-IDRI/LIDC-IDRI-0068_mask\n",
      ".\n",
      "\n",
      ".\n",
      "\n",
      ".\n",
      "\n",
      "img\n",
      "\n",
      "img\n",
      "\n",
      "img\n",
      "\n"
     ]
    },
    {
     "ename": "KeyboardInterrupt",
     "evalue": "",
     "output_type": "error",
     "traceback": [
      "\u001b[0;31m---------------------------------------------------------------------------\u001b[0m",
      "\u001b[0;31mKeyboardInterrupt\u001b[0m                         Traceback (most recent call last)",
      "\u001b[0;32m<ipython-input-30-a473ece8274b>\u001b[0m in \u001b[0;36m<module>\u001b[0;34m\u001b[0m\n\u001b[1;32m     31\u001b[0m                 \u001b[0;31m# Suponha que você tenha informações para criar a máscara aqui, como coordenadas de contorno\u001b[0m\u001b[0;34m\u001b[0m\u001b[0;34m\u001b[0m\u001b[0;34m\u001b[0m\u001b[0m\n\u001b[1;32m     32\u001b[0m                 \u001b[0;31m# Crie a máscara binária correspondente com SimpleITK\u001b[0m\u001b[0;34m\u001b[0m\u001b[0;34m\u001b[0m\u001b[0;34m\u001b[0m\u001b[0m\n\u001b[0;32m---> 33\u001b[0;31m                 \u001b[0mmask\u001b[0m \u001b[0;34m=\u001b[0m \u001b[0mmask_creation\u001b[0m\u001b[0;34m(\u001b[0m\u001b[0mpatient_id\u001b[0m\u001b[0;34m)\u001b[0m\u001b[0;34m\u001b[0m\u001b[0;34m\u001b[0m\u001b[0m\n\u001b[0m\u001b[1;32m     34\u001b[0m                 \u001b[0mmasks_list\u001b[0m\u001b[0;34m.\u001b[0m\u001b[0mappend\u001b[0m\u001b[0;34m(\u001b[0m\u001b[0mmask\u001b[0m\u001b[0;34m)\u001b[0m\u001b[0;34m\u001b[0m\u001b[0;34m\u001b[0m\u001b[0m\n\u001b[1;32m     35\u001b[0m \u001b[0;34m\u001b[0m\u001b[0m\n",
      "\u001b[0;32m<ipython-input-25-3e5bf813a78f>\u001b[0m in \u001b[0;36mmask_creation\u001b[0;34m(pid)\u001b[0m\n\u001b[1;32m      5\u001b[0m     \u001b[0mscan\u001b[0m \u001b[0;34m=\u001b[0m \u001b[0mpatient_scans\u001b[0m\u001b[0;34m.\u001b[0m\u001b[0mfirst\u001b[0m\u001b[0;34m(\u001b[0m\u001b[0;34m)\u001b[0m\u001b[0;34m\u001b[0m\u001b[0;34m\u001b[0m\u001b[0m\n\u001b[1;32m      6\u001b[0m \u001b[0;31m#     print(scan.annotations)\u001b[0m\u001b[0;34m\u001b[0m\u001b[0;34m\u001b[0m\u001b[0;34m\u001b[0m\u001b[0m\n\u001b[0;32m----> 7\u001b[0;31m     \u001b[0mnods\u001b[0m \u001b[0;34m=\u001b[0m \u001b[0mscan\u001b[0m\u001b[0;34m.\u001b[0m\u001b[0mcluster_annotations\u001b[0m\u001b[0;34m(\u001b[0m\u001b[0;34m)\u001b[0m\u001b[0;34m\u001b[0m\u001b[0;34m\u001b[0m\u001b[0m\n\u001b[0m\u001b[1;32m      8\u001b[0m     \u001b[0manns\u001b[0m \u001b[0;34m=\u001b[0m \u001b[0mscan\u001b[0m\u001b[0;34m.\u001b[0m\u001b[0mannotations\u001b[0m\u001b[0;34m\u001b[0m\u001b[0;34m\u001b[0m\u001b[0m\n\u001b[1;32m      9\u001b[0m \u001b[0;31m#     print(anns)\u001b[0m\u001b[0;34m\u001b[0m\u001b[0;34m\u001b[0m\u001b[0;34m\u001b[0m\u001b[0m\n",
      "\u001b[0;32m~/Aulas/Laboratório de IA e CD/Projeto 1/myenv/lib/python3.9/site-packages/pylidc/Scan.py\u001b[0m in \u001b[0;36mcluster_annotations\u001b[0;34m(self, metric, tol, factor, min_tol, return_distance_matrix, verbose)\u001b[0m\n\u001b[1;32m    437\u001b[0m         \u001b[0;32mfor\u001b[0m \u001b[0mi\u001b[0m \u001b[0;32min\u001b[0m \u001b[0mrange\u001b[0m\u001b[0;34m(\u001b[0m\u001b[0mN\u001b[0m\u001b[0;34m)\u001b[0m\u001b[0;34m:\u001b[0m\u001b[0;34m\u001b[0m\u001b[0;34m\u001b[0m\u001b[0m\n\u001b[1;32m    438\u001b[0m             \u001b[0;32mfor\u001b[0m \u001b[0mj\u001b[0m \u001b[0;32min\u001b[0m \u001b[0mrange\u001b[0m\u001b[0;34m(\u001b[0m\u001b[0mi\u001b[0m\u001b[0;34m+\u001b[0m\u001b[0;36m1\u001b[0m\u001b[0;34m,\u001b[0m\u001b[0mN\u001b[0m\u001b[0;34m)\u001b[0m\u001b[0;34m:\u001b[0m\u001b[0;34m\u001b[0m\u001b[0;34m\u001b[0m\u001b[0m\n\u001b[0;32m--> 439\u001b[0;31m                 D[i,j] = D[j,i] = metric(self.annotations[i],\n\u001b[0m\u001b[1;32m    440\u001b[0m                                          self.annotations[j])\n\u001b[1;32m    441\u001b[0m \u001b[0;34m\u001b[0m\u001b[0m\n",
      "\u001b[0;32m~/Aulas/Laboratório de IA e CD/Projeto 1/myenv/lib/python3.9/site-packages/pylidc/annotation_distance_metrics.py\u001b[0m in \u001b[0;36m<lambda>\u001b[0;34m(a, b)\u001b[0m\n\u001b[1;32m     25\u001b[0m         \u001b[0;32mraise\u001b[0m \u001b[0mValueError\u001b[0m\u001b[0;34m(\u001b[0m\u001b[0;34m'invalid `which` value.'\u001b[0m\u001b[0;34m)\u001b[0m\u001b[0;34m\u001b[0m\u001b[0;34m\u001b[0m\u001b[0m\n\u001b[1;32m     26\u001b[0m \u001b[0;34m\u001b[0m\u001b[0m\n\u001b[0;32m---> 27\u001b[0;31m \u001b[0mmetrics\u001b[0m\u001b[0;34m[\u001b[0m\u001b[0;34m'min'\u001b[0m\u001b[0;34m]\u001b[0m \u001b[0;34m=\u001b[0m \u001b[0;32mlambda\u001b[0m \u001b[0ma\u001b[0m\u001b[0;34m,\u001b[0m\u001b[0mb\u001b[0m\u001b[0;34m:\u001b[0m \u001b[0mpairdist\u001b[0m\u001b[0;34m(\u001b[0m\u001b[0ma\u001b[0m\u001b[0;34m,\u001b[0m\u001b[0mb\u001b[0m\u001b[0;34m,\u001b[0m\u001b[0;34m'min'\u001b[0m\u001b[0;34m)\u001b[0m\u001b[0;34m\u001b[0m\u001b[0;34m\u001b[0m\u001b[0m\n\u001b[0m\u001b[1;32m     28\u001b[0m \u001b[0mmetrics\u001b[0m\u001b[0;34m[\u001b[0m\u001b[0;34m'max'\u001b[0m\u001b[0;34m]\u001b[0m \u001b[0;34m=\u001b[0m \u001b[0;32mlambda\u001b[0m \u001b[0ma\u001b[0m\u001b[0;34m,\u001b[0m\u001b[0mb\u001b[0m\u001b[0;34m:\u001b[0m \u001b[0mpairdist\u001b[0m\u001b[0;34m(\u001b[0m\u001b[0ma\u001b[0m\u001b[0;34m,\u001b[0m\u001b[0mb\u001b[0m\u001b[0;34m,\u001b[0m\u001b[0;34m'max'\u001b[0m\u001b[0;34m)\u001b[0m\u001b[0;34m\u001b[0m\u001b[0;34m\u001b[0m\u001b[0m\n\u001b[1;32m     29\u001b[0m \u001b[0mmetrics\u001b[0m\u001b[0;34m[\u001b[0m\u001b[0;34m'avg'\u001b[0m\u001b[0;34m]\u001b[0m \u001b[0;34m=\u001b[0m \u001b[0;32mlambda\u001b[0m \u001b[0ma\u001b[0m\u001b[0;34m,\u001b[0m\u001b[0mb\u001b[0m\u001b[0;34m:\u001b[0m \u001b[0mpairdist\u001b[0m\u001b[0;34m(\u001b[0m\u001b[0ma\u001b[0m\u001b[0;34m,\u001b[0m\u001b[0mb\u001b[0m\u001b[0;34m,\u001b[0m\u001b[0;34m'avg'\u001b[0m\u001b[0;34m)\u001b[0m\u001b[0;34m\u001b[0m\u001b[0;34m\u001b[0m\u001b[0m\n",
      "\u001b[0;32m~/Aulas/Laboratório de IA e CD/Projeto 1/myenv/lib/python3.9/site-packages/pylidc/annotation_distance_metrics.py\u001b[0m in \u001b[0;36mpairdist\u001b[0;34m(ann1, ann2, which)\u001b[0m\n\u001b[1;32m     14\u001b[0m     \"\"\"\n\u001b[1;32m     15\u001b[0m     dists = cdist(ann1.contours_matrix,\n\u001b[0;32m---> 16\u001b[0;31m                   ann2.contours_matrix)\n\u001b[0m\u001b[1;32m     17\u001b[0m \u001b[0;34m\u001b[0m\u001b[0m\n\u001b[1;32m     18\u001b[0m     \u001b[0;32mif\u001b[0m   \u001b[0mwhich\u001b[0m \u001b[0;34m==\u001b[0m \u001b[0;34m'min'\u001b[0m\u001b[0;34m:\u001b[0m\u001b[0;34m\u001b[0m\u001b[0;34m\u001b[0m\u001b[0m\n",
      "\u001b[0;32m~/Aulas/Laboratório de IA e CD/Projeto 1/myenv/lib/python3.9/site-packages/pylidc/Annotation.py\u001b[0m in \u001b[0;36mcontours_matrix\u001b[0;34m(self)\u001b[0m\n\u001b[1;32m    966\u001b[0m         \u001b[0mAll\u001b[0m \u001b[0mthe\u001b[0m \u001b[0mcontour\u001b[0m \u001b[0mindex\u001b[0m \u001b[0mvalues\u001b[0m \u001b[0ma\u001b[0m \u001b[0;36m3\u001b[0m\u001b[0mD\u001b[0m \u001b[0mnumpy\u001b[0m \u001b[0marray\u001b[0m\u001b[0;34m.\u001b[0m\u001b[0;34m\u001b[0m\u001b[0;34m\u001b[0m\u001b[0m\n\u001b[1;32m    967\u001b[0m         \"\"\"\n\u001b[0;32m--> 968\u001b[0;31m         return np.vstack([c.to_matrix(include_k=True)\n\u001b[0m\u001b[1;32m    969\u001b[0m                                 for c in sorted(self.contours,\n\u001b[1;32m    970\u001b[0m                                         key=lambda c: c.image_z_position)])\n",
      "\u001b[0;32m~/Aulas/Laboratório de IA e CD/Projeto 1/myenv/lib/python3.9/site-packages/pylidc/Annotation.py\u001b[0m in \u001b[0;36m<listcomp>\u001b[0;34m(.0)\u001b[0m\n\u001b[1;32m    966\u001b[0m         \u001b[0mAll\u001b[0m \u001b[0mthe\u001b[0m \u001b[0mcontour\u001b[0m \u001b[0mindex\u001b[0m \u001b[0mvalues\u001b[0m \u001b[0ma\u001b[0m \u001b[0;36m3\u001b[0m\u001b[0mD\u001b[0m \u001b[0mnumpy\u001b[0m \u001b[0marray\u001b[0m\u001b[0;34m.\u001b[0m\u001b[0;34m\u001b[0m\u001b[0;34m\u001b[0m\u001b[0m\n\u001b[1;32m    967\u001b[0m         \"\"\"\n\u001b[0;32m--> 968\u001b[0;31m         return np.vstack([c.to_matrix(include_k=True)\n\u001b[0m\u001b[1;32m    969\u001b[0m                                 for c in sorted(self.contours,\n\u001b[1;32m    970\u001b[0m                                         key=lambda c: c.image_z_position)])\n",
      "\u001b[0;32m~/Aulas/Laboratório de IA e CD/Projeto 1/myenv/lib/python3.9/site-packages/pylidc/Contour.py\u001b[0m in \u001b[0;36mto_matrix\u001b[0;34m(self, include_k)\u001b[0m\n\u001b[1;32m    107\u001b[0m             \u001b[0;32mreturn\u001b[0m \u001b[0mij\u001b[0m\u001b[0;34m\u001b[0m\u001b[0;34m\u001b[0m\u001b[0m\n\u001b[1;32m    108\u001b[0m         \u001b[0;32melse\u001b[0m\u001b[0;34m:\u001b[0m\u001b[0;34m\u001b[0m\u001b[0;34m\u001b[0m\u001b[0m\n\u001b[0;32m--> 109\u001b[0;31m             \u001b[0mk\u001b[0m  \u001b[0;34m=\u001b[0m \u001b[0mnp\u001b[0m\u001b[0;34m.\u001b[0m\u001b[0mones\u001b[0m\u001b[0;34m(\u001b[0m\u001b[0mij\u001b[0m\u001b[0;34m.\u001b[0m\u001b[0mshape\u001b[0m\u001b[0;34m[\u001b[0m\u001b[0;36m0\u001b[0m\u001b[0;34m]\u001b[0m\u001b[0;34m)\u001b[0m\u001b[0;34m*\u001b[0m\u001b[0mself\u001b[0m\u001b[0;34m.\u001b[0m\u001b[0mimage_k_position\u001b[0m\u001b[0;34m\u001b[0m\u001b[0;34m\u001b[0m\u001b[0m\n\u001b[0m\u001b[1;32m    110\u001b[0m             \u001b[0mzs\u001b[0m \u001b[0;34m=\u001b[0m \u001b[0mself\u001b[0m\u001b[0;34m.\u001b[0m\u001b[0mannotation\u001b[0m\u001b[0;34m.\u001b[0m\u001b[0mcontour_slice_zvals\u001b[0m\u001b[0;34m\u001b[0m\u001b[0;34m\u001b[0m\u001b[0m\n\u001b[1;32m    111\u001b[0m             \u001b[0;32mreturn\u001b[0m \u001b[0mnp\u001b[0m\u001b[0;34m.\u001b[0m\u001b[0mc_\u001b[0m\u001b[0;34m[\u001b[0m\u001b[0mij\u001b[0m\u001b[0;34m,\u001b[0m \u001b[0mk\u001b[0m\u001b[0;34m]\u001b[0m\u001b[0;34m.\u001b[0m\u001b[0mastype\u001b[0m\u001b[0;34m(\u001b[0m\u001b[0mnp\u001b[0m\u001b[0;34m.\u001b[0m\u001b[0mint\u001b[0m\u001b[0;34m)\u001b[0m\u001b[0;34m\u001b[0m\u001b[0;34m\u001b[0m\u001b[0m\n",
      "\u001b[0;32m~/Aulas/Laboratório de IA e CD/Projeto 1/myenv/lib/python3.9/site-packages/pylidc/Contour.py\u001b[0m in \u001b[0;36mimage_k_position\u001b[0;34m(self)\u001b[0m\n\u001b[1;32m     87\u001b[0m         \"\"\"\n\u001b[1;32m     88\u001b[0m         \u001b[0mzs\u001b[0m \u001b[0;34m=\u001b[0m \u001b[0mself\u001b[0m\u001b[0;34m.\u001b[0m\u001b[0mannotation\u001b[0m\u001b[0;34m.\u001b[0m\u001b[0mscan\u001b[0m\u001b[0;34m.\u001b[0m\u001b[0mslice_zvals\u001b[0m\u001b[0;34m\u001b[0m\u001b[0;34m\u001b[0m\u001b[0m\n\u001b[0;32m---> 89\u001b[0;31m         \u001b[0mk\u001b[0m \u001b[0;34m=\u001b[0m \u001b[0mnp\u001b[0m\u001b[0;34m.\u001b[0m\u001b[0mabs\u001b[0m\u001b[0;34m(\u001b[0m\u001b[0mzs\u001b[0m\u001b[0;34m-\u001b[0m\u001b[0mself\u001b[0m\u001b[0;34m.\u001b[0m\u001b[0mimage_z_position\u001b[0m\u001b[0;34m)\u001b[0m\u001b[0;34m.\u001b[0m\u001b[0margmin\u001b[0m\u001b[0;34m(\u001b[0m\u001b[0;34m)\u001b[0m\u001b[0;34m\u001b[0m\u001b[0;34m\u001b[0m\u001b[0m\n\u001b[0m\u001b[1;32m     90\u001b[0m         \u001b[0;32mreturn\u001b[0m \u001b[0mk\u001b[0m\u001b[0;34m\u001b[0m\u001b[0;34m\u001b[0m\u001b[0m\n\u001b[1;32m     91\u001b[0m \u001b[0;34m\u001b[0m\u001b[0m\n",
      "\u001b[0;31mKeyboardInterrupt\u001b[0m: "
     ]
    }
   ],
   "source": [
    "# Path were the images are stored\n",
    "input_directory = \"/home/cmonteiro/Aulas/Laboratório de IA e CD/Projeto 1/Imagens/manifest-1600709154662/LIDC-IDRI\"\n",
    "\n",
    "# Path to the setup file from radiomics\n",
    "params_file = \"/home/cmonteiro/pyradiomics-master/pyradiomics-master/examples/exampleSettings/Params.yaml\"\n",
    "\n",
    "# List to store the features\n",
    "masks_list = []\n",
    "\n",
    "# Ordered list of all the subfolders\n",
    "patient_folders = sorted(os.listdir(input_directory))\n",
    "\n",
    "for patient_folder in patient_folders:\n",
    "    patient_folder_path = os.path.join(input_directory, patient_folder)\n",
    "    \n",
    "    # Id of the patient - 'LIDC-IDRI-xxxx'\n",
    "    patient_id = os.path.basename(patient_folder_path)\n",
    "\n",
    "    for root, _, files in os.walk(patient_folder_path):\n",
    "        print(\".\\n\")\n",
    "        for file in files:\n",
    "            print(\"img\\n\")\n",
    "            if file.endswith('.dcm'):\n",
    "\n",
    "                # Creation of the binary mask with SimpleITK\n",
    "                mask = mask_creation(patient_id) \n",
    "                masks_list.append(mask)\n",
    "                \n",
    "        \n",
    "    # Saving of the mask on a folder named patient_id_mask\n",
    "    output_file = os.path.join(input_directory, patient_id + \"_mask\") \n",
    "\n",
    "    with open(output_file, 'wb') as file:\n",
    "        pickle.dump(masks_list, file)\n",
    "    "
   ]
  }
 ],
 "metadata": {
  "kernelspec": {
   "display_name": "Python 3 (ipykernel)",
   "language": "python",
   "name": "python3"
  },
  "language_info": {
   "codemirror_mode": {
    "name": "ipython",
    "version": 3
   },
   "file_extension": ".py",
   "mimetype": "text/x-python",
   "name": "python",
   "nbconvert_exporter": "python",
   "pygments_lexer": "ipython3",
   "version": "3.9.5"
  }
 },
 "nbformat": 4,
 "nbformat_minor": 5
}
