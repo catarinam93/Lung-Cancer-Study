{
 "cells": [
  {
   "cell_type": "code",
   "execution_count": 46,
   "id": "6d50beee",
   "metadata": {},
   "outputs": [],
   "source": [
    "import pandas as pd\n",
    "import re\n",
    "import matplotlib.pyplot as plt\n",
    "import seaborn as sns\n",
    "import numpy as np\n",
    "from sklearn.preprocessing import LabelEncoder"
   ]
  },
  {
   "cell_type": "code",
   "execution_count": 47,
   "id": "d468ec73",
   "metadata": {},
   "outputs": [],
   "source": [
    "%run verifica.ipynb"
   ]
  },
  {
   "cell_type": "markdown",
   "id": "77e0603e",
   "metadata": {},
   "source": [
    "# Loading Features"
   ]
  },
  {
   "cell_type": "markdown",
   "id": "83e5fbe9",
   "metadata": {},
   "source": [
    "### Datasets with low, medium and high standard deviation"
   ]
  },
  {
   "cell_type": "code",
   "execution_count": 48,
   "id": "59e38512",
   "metadata": {},
   "outputs": [],
   "source": [
    "low_2d_sd= pd.read_csv(\"data_0.5.csv\")\n",
    "medium_2d_sd= pd.read_csv(\"data_1.0.csv\")\n",
    "high_2d_sd= pd.read_csv(\"data_1.0.csv\")"
   ]
  },
  {
   "cell_type": "markdown",
   "id": "d72356bc",
   "metadata": {},
   "source": [
    "### Renaming the columns\n"
   ]
  },
  {
   "cell_type": "code",
   "execution_count": 49,
   "id": "59a7cb26",
   "metadata": {},
   "outputs": [],
   "source": [
    "new_column_names = {'Nodule 1\\nDiagnosis at the Nodule Level \\n0=Unknown\\n1=benign or non-malignant disease\\n2= malignant, primary lung cancer\\n3 = malignant metastatic)\\n': 'Diagnosis Nodule 1', \n",
    "                    'Nodule 1\\nDiagnosis Method at the Nodule Level\\n0 = unknown\\n1 = review of radiological images to show 2 years of stable nodule\\n2 = biopsy\\n3 = surgical resection\\n4 = progression or response\\n': 'Diagnosis Method Nodule 1',\n",
    "                      'Nodule 2\\nDiagnosis at the Nodule Level \\n0=Unknown\\n1=benign or non-malignant disease\\n2= malignant, primary lung cancer\\n3 = malignant metastatic)\\n': 'Diagnosis Nodule 2',\n",
    "                      'Nodule 2\\nDiagnosis Method at the Nodule Level\\n0 = unknown\\n1 = review of radiological images to show 2 years of stable nodule\\n2 = biopsy\\n3 = surgical resection\\n4 = progression or response\\n': 'Diagnosis Method Nodule 2',\n",
    "                      'Nodule 3\\nDiagnosis at the Nodule Level \\n0=Unknown\\n1=benign or non-malignant disease\\n2= malignant, primary lung cancer\\n3 = malignant metastatic)\\n': 'Diagnosis Nodule 3',\n",
    "                      'Nodule 3\\nDiagnosis Method at the Nodule Level\\n0 = unknown\\n1 = review of radiological images to show 2 years of stable nodule\\n2 = biopsy\\n3 = surgical resection\\n4 = progression or response\\n': 'Diagnosis Method Nodule 3',\n",
    "                      'Nodule 4\\nDiagnosis at the Nodule Level \\n0=Unknown\\n1=benign or non-malignant disease\\n2= malignant, primary lung cancer\\n3 = malignant metastatic)\\n': 'Diagnosis Nodule 4',\n",
    "                      'Nodule 4\\nDiagnosis Method at the Nodule Level\\n0 = unknown\\n1 = review of radiological images to show 2 years of stable nodule\\n2 = biopsy\\n3 = surgical resection\\n4 = progression or response\\n': 'Diagnosis Method Nodule 4',\n",
    "                      'Nodule 5\\nDiagnosis at the Nodule Level \\n0=Unknown\\n1=benign or non-malignant disease\\n2= malignant, primary lung cancer\\n3 = malignant metastatic)\\n': 'Diagnosis Nodule 5',\n",
    "                      'Nodule 5\\nDiagnosis Method at the Nodule Level\\n0 = unknown\\n1 = review of radiological images to show 2 years of stable nodule\\n2 = biopsy\\n3 = surgical resection\\n4 = progression or response\\n': 'Diagnosis Method Nodule 5'}\n",
    "low_2d_sd.rename(columns=new_column_names, inplace=True)\n",
    "medium_2d_sd.rename(columns=new_column_names, inplace=True)\n",
    "high_2d_sd.rename(columns=new_column_names, inplace=True)"
   ]
  },
  {
   "cell_type": "markdown",
   "id": "86246ac4",
   "metadata": {},
   "source": [
    "## Processing Data"
   ]
  },
  {
   "cell_type": "markdown",
   "id": "f067661e",
   "metadata": {},
   "source": [
    "### Handling Missing Data:"
   ]
  },
  {
   "cell_type": "code",
   "execution_count": 50,
   "id": "d433eaec",
   "metadata": {},
   "outputs": [],
   "source": [
    "low_2d_sd = low_2d_sd.dropna(subset=['Diagnosis at the Patient Level\\n0=Unknown\\n1=benign or non-malignant disease\\n2= malignant, primary lung cancer\\n3 = malignant metastatic\\n'])\n",
    "medium_2d_sd = low_2d_sd.dropna(subset=['Diagnosis at the Patient Level\\n0=Unknown\\n1=benign or non-malignant disease\\n2= malignant, primary lung cancer\\n3 = malignant metastatic\\n'])\n",
    "high_2d_sd = low_2d_sd.dropna(subset=['Diagnosis at the Patient Level\\n0=Unknown\\n1=benign or non-malignant disease\\n2= malignant, primary lung cancer\\n3 = malignant metastatic\\n'])\n"
   ]
  },
  {
   "cell_type": "code",
   "execution_count": 51,
   "id": "9a82d9ec",
   "metadata": {},
   "outputs": [],
   "source": [
    "pd.set_option(\"display.max_rows\", None)  # Show all rows\n",
    "pd.set_option(\"display.max_columns\", None)  # Show all columns\n",
    "missing_values = low_2d_sd.isna()"
   ]
  },
  {
   "cell_type": "code",
   "execution_count": 52,
   "id": "5da35515",
   "metadata": {},
   "outputs": [],
   "source": [
    "missing_values = low_2d_sd.isna()\n",
    "missing_indices = missing_values.stack()\n",
    "\n",
    "missing_values_dict = find_missing_values(low_2d_sd)"
   ]
  },
  {
   "cell_type": "markdown",
   "id": "5944d275",
   "metadata": {},
   "source": [
    "### Replacing NaN values with zeros"
   ]
  },
  {
   "cell_type": "code",
   "execution_count": 56,
   "id": "9d96c059",
   "metadata": {},
   "outputs": [],
   "source": [
    "low_2d_sd = replace_nan_with_zero(low_2d_sd)\n",
    "medium_2d_sd = replace_nan_with_zero(medium_2d_sd)\n",
    "high_2d_sd = replace_nan_with_zero(high_2d_sd)"
   ]
  },
  {
   "cell_type": "markdown",
   "id": "cb442b3a",
   "metadata": {},
   "source": [
    "### Checking if there are still missing values for all datasets"
   ]
  },
  {
   "cell_type": "code",
   "execution_count": 57,
   "id": "c660cd01",
   "metadata": {},
   "outputs": [
    {
     "name": "stdout",
     "output_type": "stream",
     "text": [
      "No missing values found in the DataFrame.\n"
     ]
    }
   ],
   "source": [
    "missing_values_dict = find_missing_values(low_2d_sd) # Dataset with lowest standard deviation\n",
    "\n",
    "for column, missing_rows in missing_values_dict.items():\n",
    "    print(f\"Column with missing values: {column}\")\n",
    "    print(f\"Rows with missing values in this column: {missing_rows}\")\n",
    "    print()"
   ]
  },
  {
   "cell_type": "code",
   "execution_count": 58,
   "id": "b9314d4f",
   "metadata": {},
   "outputs": [
    {
     "name": "stdout",
     "output_type": "stream",
     "text": [
      "No missing values found in the DataFrame.\n"
     ]
    }
   ],
   "source": [
    "missing_values_dict1 = find_missing_values(medium_2d_sd) # Dataset with medium standard deviation\n",
    "for column, missing_rows in missing_values_dict1.items():\n",
    "    print(f\"Column with missing values: {column}\")\n",
    "    print(f\"Rows with missing values in this column: {missing_rows}\")\n",
    "    print()"
   ]
  },
  {
   "cell_type": "code",
   "execution_count": 59,
   "id": "8a7937d5",
   "metadata": {},
   "outputs": [
    {
     "name": "stdout",
     "output_type": "stream",
     "text": [
      "No missing values found in the DataFrame.\n"
     ]
    }
   ],
   "source": [
    "missing_values_dict2 = find_missing_values(high_2d_sd) # Dataset with highest standard deviation\n",
    "\n",
    "for column, missing_rows in missing_values_dict2.items():\n",
    "    print(f\"Column with missing values: {column}\")\n",
    "    print(f\"Rows with missing values in this column: {missing_rows}\")\n",
    "    print()"
   ]
  },
  {
   "cell_type": "markdown",
   "id": "fdf11cf2",
   "metadata": {},
   "source": [
    "## Encoding Categorical Data¶"
   ]
  },
  {
   "cell_type": "markdown",
   "id": "ea275c51",
   "metadata": {},
   "source": [
    "### Mapping non-numeric values to numeric values in 'Malignancy' column"
   ]
  },
  {
   "cell_type": "code",
   "execution_count": 61,
   "id": "ea7a1ce1",
   "metadata": {},
   "outputs": [],
   "source": [
    "malignancy_mapping = {\n",
    "    '1-Highly Unlikely': 1,\n",
    "    '2-Moderately Unlikely': 2,\n",
    "    '3-Indeterminate': 3,\n",
    "    '4-Moderately Suspicious': 4,\n",
    "    '5-Highly Suspicious': 5\n",
    "}\n",
    "\n",
    "low_2d_sd['Malignancy'] = low_2d_sd['Malignancy'].map(malignancy_mapping)\n",
    "medium_2d_sd['Malignancy'] = medium_2d_sd['Malignancy'].map(malignancy_mapping)\n",
    "high_2d_sd['Malignancy'] = high_2d_sd['Malignancy'].map(malignancy_mapping)"
   ]
  },
  {
   "cell_type": "markdown",
   "id": "001eabb3",
   "metadata": {},
   "source": [
    "### Uniforming the labels"
   ]
  },
  {
   "cell_type": "code",
   "execution_count": 62,
   "id": "25a1ce3d",
   "metadata": {},
   "outputs": [],
   "source": [
    "labels = [\n",
    "    'Head, Neck', 'Carcinoma', 'Prostate', 'Prostate', 'Prostate', 'Colon', 'Colon ', 'Colon', 'Colon', 'Colon',\n",
    "    'Colon', 'Colon', 'Colon', 'Colon', 'Colon', 'Colon', 'Carcinoma', 'Lung', 'Sarcoma', 'Sarcoma',\n",
    "    'Sarcoma', 'Sarcoma', 'Sarcoma', 'Sarcoma', 'Pancreatic', 'Gallbladder', 'Colorectal', 'Colorectal', 'Vaginal', 'Lung',\n",
    "    'Lymphoma', 'Lymphoma', 'Lymphoma', 'Gallbladder', 'Lung', 'Lung', 'Lung', 'Lung', 'Lung', 'Lung',\n",
    "    'Lung', 'Lymphoma', 'Carcinoma', 'Carcinoma', 'Lung', 'Lung', 'Lung', 'Lung', 'Leukemia', 'Leukemia','Ovarian',\n",
    "    'Ovarian', 'Ovarian', 'Ovarian', 'Rectal', 'Rectal', 'Rectal', 'Rectal', 'Sarcoma', 'Melanoma', 'Lung', 'Lung',\n",
    "    'Breast', 'Breast', 'Rectal', 'Cervix', 'Leukemia', 'Leukemia', 'Sarcoma', 'Prostate', 'Prostate ', 'Laryngeal',\n",
    "    'Multiple Primary Cancers', 'Lung', 'Lung', 'Sarcoma', 'Head, Neck', 'Esophageal', 'Leukemia', 'Melanoma', 'Lymphoma', 'Sarcoma',\n",
    "    'Renal', 'Lung', 'Lung', 'Lung', 'Lung', 'Lung', 'Lung', 'Breast', 'Cervical', 'Mesothelial', 'Mesothelial', 'Carcinoma', 'Lung', 'Fibrosis', 'Fibrosis', 'Fibrosis',\n",
    "    'Fibrosis', 'Lung', 'Histoplasmosis', 'Histoplasmosis', 'Histoplasmosis', 'Histoplasmosis', 'Histoplasmosis', 'Histoplasmosis', 'Carcinoma', 'Metastatic',\n",
    "    'Metastatic', 'Carcinoma', 'Carcinoma', 'Lung', 'Lung', 'Lung', 'Lung', 'Lung','Lung','Lymphoma', 'Carcinoma'\n",
    "]\n",
    "\n",
    "# Create a LabelEncoder\n",
    "label_encoder = LabelEncoder()\n",
    "\n",
    "# Fit and transform the labels\n",
    "encoded_labels = label_encoder.fit_transform(labels)\n",
    "\n",
    "# Substitute the labels in the datasets\n",
    "low_2d_sd['Primary tumor site for metastatic disease'] = encoded_labels\n",
    "medium_2d_sd['Primary tumor site for metastatic disease'] = encoded_labels\n",
    "high_2d_sd['Primary tumor site for metastatic disease'] = encoded_labels"
   ]
  },
  {
   "cell_type": "markdown",
   "id": "ff188c50",
   "metadata": {},
   "source": [
    "### Removing patients prefixes (to have an int value)"
   ]
  },
  {
   "cell_type": "code",
   "execution_count": 63,
   "id": "f8a4f261",
   "metadata": {},
   "outputs": [],
   "source": [
    "remove_prefix(low_2d_sd, 'Patient_id', 'LIDC-IDRI-') \n",
    "low_2d_sd['Patient_id'] = pd.to_numeric(low_2d_sd['Patient_id'])\n",
    "\n",
    "remove_prefix(medium_2d_sd, 'Patient_id', 'LIDC-IDRI-')\n",
    "medium_2d_sd['Patient_id'] = pd.to_numeric(medium_2d_sd['Patient_id'])\n",
    "                                           \n",
    "remove_prefix(high_2d_sd, 'Patient_id', 'LIDC-IDRI-')\n",
    "high_2d_sd['Patient_id'] = pd.to_numeric(high_2d_sd['Patient_id'])"
   ]
  },
  {
   "cell_type": "markdown",
   "id": "b9ec1bb0",
   "metadata": {},
   "source": [
    "### Drop unnecessary columns"
   ]
  },
  {
   "cell_type": "code",
   "execution_count": 64,
   "id": "eadc479b",
   "metadata": {},
   "outputs": [],
   "source": [
    "columns_to_remove=['TCIA Patient ID', 'diagnostics_Configuration_EnabledImageTypes',\n",
    "'diagnostics_Configuration_Settings',\n",
    "'diagnostics_Image-original_Dimensionality',\n",
    "'diagnostics_Image-original_Hash',\n",
    "'diagnostics_Image-original_Maximum',\n",
    "'diagnostics_Image-original_Mean',\n",
    "'diagnostics_Image-original_Minimum',\n",
    "'diagnostics_Image-original_Size',\n",
    "'diagnostics_Image-original_Spacing',\n",
    "'diagnostics_Mask-original_BoundingBox',\n",
    "'diagnostics_Mask-original_CenterOfMass',\n",
    "'diagnostics_Mask-original_CenterOfMassIndex',\n",
    "'diagnostics_Mask-original_Hash',\n",
    "'diagnostics_Mask-original_Size',\n",
    "'diagnostics_Mask-original_Spacing',\n",
    "'diagnostics_Mask-original_VolumeNum',\n",
    "'diagnostics_Mask-original_VoxelNum',\n",
    "'diagnostics_Versions_Numpy',\n",
    "'diagnostics_Versions_PyRadiomics',\n",
    "'diagnostics_Versions_PyWavelet',\n",
    "'diagnostics_Versions_Python',\n",
    "'diagnostics_Versions_SimpleITK', 'original_shape_Maximum3DDiameter',\n",
    "'original_shape_MeshVolume']\n",
    "\n",
    "low_2d_sd = low_2d_sd.drop(columns=columns_to_remove, errors='ignore')\n",
    "medium_2d_sd = medium_2d_sd.drop(columns=columns_to_remove, errors='ignore')\n",
    "high_2d_sd = high_2d_sd.drop(columns=columns_to_remove, errors='ignore')"
   ]
  },
  {
   "cell_type": "markdown",
   "id": "28e4f010",
   "metadata": {},
   "source": [
    "### Check if there are stll string columns"
   ]
  },
  {
   "cell_type": "code",
   "execution_count": 65,
   "id": "f6be0ffc",
   "metadata": {},
   "outputs": [
    {
     "name": "stdout",
     "output_type": "stream",
     "text": [
      "Columns with string values: Index([], dtype='object')\n"
     ]
    }
   ],
   "source": [
    "string_columns = get_string_columns(low_2d_sd)  \n",
    "print(\"Columns with string values:\", string_columns)"
   ]
  },
  {
   "cell_type": "markdown",
   "id": "14dec03b",
   "metadata": {},
   "source": [
    "### Remove unknown rows"
   ]
  },
  {
   "cell_type": "code",
   "execution_count": 66,
   "id": "84c4281c",
   "metadata": {},
   "outputs": [
    {
     "name": "stdout",
     "output_type": "stream",
     "text": [
      "Columns with all zeros (representing 'unknown'):\n",
      "Index(['original_firstorder_InterquartileRange',\n",
      "       'original_firstorder_Kurtosis',\n",
      "       'original_firstorder_MeanAbsoluteDeviation',\n",
      "       'original_firstorder_Range',\n",
      "       'original_firstorder_RobustMeanAbsoluteDeviation',\n",
      "       'original_firstorder_Skewness', 'original_firstorder_Variance',\n",
      "       'original_glcm_ClusterProminence', 'original_glcm_ClusterShade',\n",
      "       'original_glcm_ClusterTendency', 'original_glcm_Contrast',\n",
      "       'original_glcm_DifferenceAverage', 'original_glcm_DifferenceVariance',\n",
      "       'original_glcm_Imc1', 'original_glcm_Imc2',\n",
      "       'original_glcm_InverseVariance', 'original_glcm_SumSquares',\n",
      "       'original_glrlm_GrayLevelVariance', 'original_glszm_GrayLevelVariance',\n",
      "       'original_gldm_GrayLevelVariance', 'Diagnosis Nodule 3',\n",
      "       'Diagnosis Method Nodule 3', 'Diagnosis Nodule 4',\n",
      "       'Diagnosis Method Nodule 4', 'Diagnosis Nodule 5',\n",
      "       'Diagnosis Method Nodule 5'],\n",
      "      dtype='object')\n"
     ]
    }
   ],
   "source": [
    "# Check if any columns have all zeros\n",
    "columns_with_zeros = (low_2d_sd == 0).all(axis=0)\n",
    "\n",
    "# Get the column names with all zeros\n",
    "columns_with_zeros = low_2d_sd.columns[columns_with_zeros]\n",
    "\n",
    "if not columns_with_zeros.empty:\n",
    "    print(\"Columns with all zeros (representing 'unknown'):\")\n",
    "    print(columns_with_zeros)\n",
    "else:\n",
    "    print(\"No columns with all zeros found.\")"
   ]
  },
  {
   "cell_type": "code",
   "execution_count": 67,
   "id": "681f0268",
   "metadata": {},
   "outputs": [],
   "source": [
    "list = ['original_firstorder_InterquartileRange',\n",
    "       'original_firstorder_Kurtosis',\n",
    "       'original_firstorder_MeanAbsoluteDeviation',\n",
    "       'original_firstorder_Range',\n",
    "       'original_firstorder_RobustMeanAbsoluteDeviation',\n",
    "       'original_firstorder_Skewness', 'original_firstorder_Variance',\n",
    "       'original_glcm_ClusterProminence', 'original_glcm_ClusterShade',\n",
    "       'original_glcm_ClusterTendency', 'original_glcm_Contrast',\n",
    "       'original_glcm_DifferenceAverage', 'original_glcm_DifferenceVariance',\n",
    "       'original_glcm_Imc1', 'original_glcm_Imc2',\n",
    "       'original_glcm_InverseVariance', 'original_glcm_SumSquares',\n",
    "       'original_glrlm_GrayLevelVariance', 'original_glszm_GrayLevelVariance',\n",
    "       'original_gldm_GrayLevelVariance']\n",
    "\n",
    "low_2d_sd = low_2d_sd.drop(columns=list)\n",
    "medium_2d_sd = medium_2d_sd.drop(columns=list)\n",
    "high_2d_sd = high_2d_sd.drop(columns=list)"
   ]
  }
 ],
 "metadata": {
  "kernelspec": {
   "display_name": "Python 3",
   "language": "python",
   "name": "python3"
  },
  "language_info": {
   "codemirror_mode": {
    "name": "ipython",
    "version": 3
   },
   "file_extension": ".py",
   "mimetype": "text/x-python",
   "name": "python",
   "nbconvert_exporter": "python",
   "pygments_lexer": "ipython3",
   "version": "3.9.12"
  }
 },
 "nbformat": 4,
 "nbformat_minor": 5
}
