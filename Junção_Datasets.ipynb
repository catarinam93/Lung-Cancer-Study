{
 "cells": [
  {
   "cell_type": "code",
   "execution_count": 1,
   "id": "81e47f73",
   "metadata": {},
   "outputs": [],
   "source": [
    "import pandas as pd"
   ]
  },
  {
   "cell_type": "markdown",
   "id": "4c24ce07",
   "metadata": {},
   "source": [
    "# Joining of all datasets in one named data"
   ]
  },
  {
   "cell_type": "markdown",
   "id": "ec918932",
   "metadata": {},
   "source": [
    "#### importing .csv files into dataframes"
   ]
  },
  {
   "cell_type": "code",
   "execution_count": null,
   "id": "e972edf8",
   "metadata": {},
   "outputs": [],
   "source": [
    "features_2D = pd.read_csv('features_2D.csv')\n",
    "main = pd.read_csv('data.csv')\n",
    "target = pd.read_csv('target.csv')"
   ]
  },
  {
   "cell_type": "code",
   "execution_count": null,
   "id": "ae921983",
   "metadata": {},
   "outputs": [],
   "source": [
    "data = pd.concat([features_2D, main, target], axis=1)"
   ]
  }
 ],
 "metadata": {
  "kernelspec": {
   "display_name": "Python 3 (ipykernel)",
   "language": "python",
   "name": "python3"
  },
  "language_info": {
   "codemirror_mode": {
    "name": "ipython",
    "version": 3
   },
   "file_extension": ".py",
   "mimetype": "text/x-python",
   "name": "python",
   "nbconvert_exporter": "python",
   "pygments_lexer": "ipython3",
   "version": "3.9.5"
  }
 },
 "nbformat": 4,
 "nbformat_minor": 5
}
