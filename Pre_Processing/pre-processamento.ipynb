{
 "cells": [
  {
   "cell_type": "code",
   "execution_count": 1,
   "id": "ae0013db",
   "metadata": {},
   "outputs": [
    {
     "data": {
      "text/plain": [
       "'/home/cmonteiro/Aulas/Laboratório de IA e CD/Projeto 1/projeto/bin/python3'"
      ]
     },
     "execution_count": 1,
     "metadata": {},
     "output_type": "execute_result"
    }
   ],
   "source": [
    "import sys\n",
    "sys.executable"
   ]
  },
  {
   "cell_type": "code",
   "execution_count": 2,
   "id": "a80f967c",
   "metadata": {},
   "outputs": [],
   "source": [
    "import pandas as pd\n",
    "import numpy as np\n",
    "import os\n",
    "import pylidc as pl\n",
    "import shutil"
   ]
  },
  {
   "cell_type": "markdown",
   "id": "ee22edcb",
   "metadata": {},
   "source": [
    "# Verify if the patients were evaluated"
   ]
  },
  {
   "cell_type": "markdown",
   "id": "63261abb",
   "metadata": {},
   "source": [
    "#### The ones who were not evaluated were eliminated"
   ]
  },
  {
   "cell_type": "code",
   "execution_count": 4,
   "id": "928ef8cc",
   "metadata": {},
   "outputs": [],
   "source": [
    "input_directory = \"/home/cmonteiro/Aulas/Laboratório de IA e CD/Projeto 1/Imagens/LIDC-IDRI\""
   ]
  },
  {
   "cell_type": "code",
   "execution_count": 5,
   "id": "aa3bde19",
   "metadata": {},
   "outputs": [],
   "source": [
    "# List with all the eliminated patients - the one who were not evaluated\n",
    "deleted_patients = []\n",
    "\n",
    "# Ordered list of all the subfolders\n",
    "patient_folders = sorted(os.listdir(input_directory))\n",
    "\n",
    "for patient_folder in patient_folders:\n",
    "    patient_folder_path = os.path.join(input_directory, patient_folder)\n",
    "\n",
    "    # Id of the patient - 'LIDC-IDRI-xxxx'\n",
    "    patient_id = os.path.basename(patient_folder_path)\n",
    "    \n",
    "    patient_scans = pl.query(pl.Scan).filter(pl.Scan.patient_id == patient_id)\n",
    "    \n",
    "    for scan in patient_scans:\n",
    "        anns = scan.annotations\n",
    "        \n",
    "        if not anns:\n",
    "            # Path to the folder we want to eliminate\n",
    "            delete_folder = os.path.join(input_directory, patient_id) \n",
    "\n",
    "            # Verify if the folder exists\n",
    "            if os.path.exists(delete_folder):\n",
    "                # Verify if it is a folder\n",
    "                if os.path.isdir(delete_folder):\n",
    "                    # Remove recursively\n",
    "                    shutil.rmtree(delete_folder)\n",
    "                    print(f\"The folder '{patient_id}' and its content were removed successfully\")\n",
    "                    deleted_patients.append(patient_id)\n",
    "                else:\n",
    "                    print(f\"'{patient_id}' is not a folder.\")\n",
    "            else:\n",
    "                print(f\"The folder '{patient_id}' does not exist in the expecified path.\")\n",
    "\n",
    "# If desired - save the list on a file  \n",
    "folder = \"deleted_patients.txt\"\n",
    "\n",
    "with open(folder, 'w') as arquivo:\n",
    "    # Saves the patients patient_id on a file named deleted_patients.txt\n",
    "    for element in deleted_patients:\n",
    "        arquivo.write(element + '\\n')"
   ]
  }
 ],
 "metadata": {
  "kernelspec": {
   "display_name": "Python 3 (ipykernel)",
   "language": "python",
   "name": "python3"
  },
  "language_info": {
   "codemirror_mode": {
    "name": "ipython",
    "version": 3
   },
   "file_extension": ".py",
   "mimetype": "text/x-python",
   "name": "python",
   "nbconvert_exporter": "python",
   "pygments_lexer": "ipython3",
   "version": "3.9.5"
  }
 },
 "nbformat": 4,
 "nbformat_minor": 5
}
