{
 "cells": [
  {
   "cell_type": "code",
   "execution_count": 2,
   "metadata": {},
   "outputs": [],
   "source": [
    "import pandas as pd\n",
    "import re\n",
    "import matplotlib.pyplot as plt\n",
    "import seaborn as sns"
   ]
  },
  {
   "cell_type": "markdown",
   "metadata": {},
   "source": [
    "# Verification Functions"
   ]
  },
  {
   "cell_type": "markdown",
   "metadata": {},
   "source": [
    "### Check IDs format"
   ]
  },
  {
   "cell_type": "code",
   "execution_count": 3,
   "metadata": {},
   "outputs": [],
   "source": [
    "def verif_format_ids(data, data_id_column):\n",
    "    # Define the expected format pattern\n",
    "    expected_format_pattern = r'^LIDC-IDRI-\\d{4}$'\n",
    "\n",
    "    # Initialize a list to store IDs that don't match the format\n",
    "    different_format_ids = []\n",
    "\n",
    "    # Check each ID in the column, converting to strings as needed\n",
    "    for id_value in data[data_id_column]:\n",
    "        id_str = str(id_value)\n",
    "        if not re.match(expected_format_pattern, id_str):\n",
    "            different_format_ids.append(id_value)\n",
    "\n",
    "    if not different_format_ids:\n",
    "        print(f\"The format of IDs in column '{data_id_column}' is the same (LIDC-IDRI- followed by a four-digit number).\")\n",
    "    else:\n",
    "        print(f\"The format of IDs in column '{data_id_column}' is not the same.\")\n",
    "        print(\"IDs with different formats:\")\n",
    "        for id_value in different_format_ids:\n",
    "            print(id_value)\n"
   ]
  },
  {
   "cell_type": "markdown",
   "metadata": {},
   "source": [
    "### Check duplicated IDs"
   ]
  },
  {
   "cell_type": "code",
   "execution_count": 4,
   "metadata": {},
   "outputs": [],
   "source": [
    "def duplicated(data, data_id_column):\n",
    "    # Find duplicated IDs\n",
    "    duplicated_ids = data[data_id_column][data[data_id_column].duplicated(keep=False)]\n",
    "\n",
    "    # Print duplicate IDs (or not)\n",
    "    if not duplicated_ids.empty:\n",
    "        print(\"Duplicated IDs in column '\" + data_id_column + \"':\")\n",
    "        #diz qual o valor duplicado\n",
    "        print(duplicated_ids.unique())\n",
    "    else:\n",
    "        print(\"No duplicated IDs found in column '\" + data_id_column + \"'.\")\n"
   ]
  },
  {
   "cell_type": "markdown",
   "metadata": {},
   "source": [
    "### check if doesn't exist diferent ids between two datasets"
   ]
  },
  {
   "cell_type": "code",
   "execution_count": 5,
   "metadata": {},
   "outputs": [],
   "source": [
    "def verify_different_ids(data1, data2, column1, column2):\n",
    "    # Get unique IDs from both columns\n",
    "    unique_ids1 = set(data1[column1].unique())\n",
    "    unique_ids2 = set(data2[column2].unique())\n",
    "    \n",
    "    # Check for differences\n",
    "    different_ids = unique_ids1.symmetric_difference(unique_ids2)\n",
    "    \n",
    "    return len(different_ids) > 0\n"
   ]
  },
  {
   "cell_type": "markdown",
   "metadata": {},
   "source": [
    "### Check if there are still IDs with white spaces after removal"
   ]
  },
  {
   "cell_type": "code",
   "execution_count": 6,
   "metadata": {},
   "outputs": [],
   "source": [
    "def ids_with_whitespace(data, data_id_column):\n",
    "    # Check for IDs with whitespace in df_metadata\n",
    "    ids_with_whitespace_data = data[data[data_id_column].str.contains(' ')]\n",
    "\n",
    "    # Print IDs with whitespace, if any\n",
    "    if not ids_with_whitespace_data.empty:\n",
    "        print(\"IDs with whitespace in :\")\n",
    "        print(ids_with_whitespace_data)\n",
    "    else:\n",
    "        print(\"No IDs with whitespace\")\n",
    "\n",
    "\n"
   ]
  },
  {
   "cell_type": "markdown",
   "metadata": {},
   "source": [
    "### check for missing data"
   ]
  },
  {
   "cell_type": "code",
   "execution_count": 7,
   "metadata": {},
   "outputs": [],
   "source": [
    "def missing_data(data):\n",
    "    # Check missing values in all columns\n",
    "    missing = data.isna().sum()\n",
    "    for column, count in missing.items():\n",
    "        print(f\"Missing values in {column}: {count}\")\n",
    "\n",
    "\n"
   ]
  },
  {
   "cell_type": "markdown",
   "metadata": {},
   "source": [
    "### Check for null values"
   ]
  },
  {
   "cell_type": "code",
   "execution_count": 8,
   "metadata": {},
   "outputs": [],
   "source": [
    "def check_null_values(data):\n",
    "\n",
    "    null_count = data.isnull().sum().sum()  # Get the total count of null values\n",
    "    has_null_values = null_count > 0  # Check if there are null values\n",
    "\n",
    "    return has_null_values, null_count\n",
    "\n"
   ]
  },
  {
   "cell_type": "markdown",
   "metadata": {},
   "source": [
    "# Data Processing Functions"
   ]
  },
  {
   "cell_type": "markdown",
   "metadata": {},
   "source": [
    "### Remove WhiteSpaces"
   ]
  },
  {
   "cell_type": "code",
   "execution_count": 9,
   "metadata": {},
   "outputs": [],
   "source": [
    "def remove_whiteSpace(data, data_id_column):\n",
    "    data[data_id_column] = data[data_id_column].str.strip()"
   ]
  },
  {
   "cell_type": "markdown",
   "metadata": {},
   "source": [
    "### Remove missing data"
   ]
  },
  {
   "cell_type": "code",
   "execution_count": 10,
   "metadata": {},
   "outputs": [],
   "source": [
    "# remover valores ausentes\n",
    "def remove_missing_data(data, data_column):\n",
    "    data.dropna(subset=[data_column], inplace=True)\n",
    "\n",
    "# Preencher valores ausentes na coluna com uma string vazia\n",
    "def fill_missing_data(data, data_id_column):\n",
    "    data[data_id_column].fillna('', inplace=True)\n"
   ]
  },
  {
   "cell_type": "markdown",
   "metadata": {},
   "source": [
    "### Exclude Unknown rows"
   ]
  },
  {
   "cell_type": "code",
   "execution_count": 11,
   "metadata": {},
   "outputs": [],
   "source": [
    "\n",
    "def remove_unknown_rows(data, data_column, value_to_remove=0):\n",
    "    data = data[data[data_column] != value_to_remove]\n",
    "    return data\n"
   ]
  },
  {
   "cell_type": "markdown",
   "metadata": {},
   "source": [
    "#### Process duplicated data using mean"
   ]
  },
  {
   "cell_type": "code",
   "execution_count": 12,
   "metadata": {},
   "outputs": [],
   "source": [
    "def process_duplicated(data, data_id_column):\n",
    "    data.drop_duplicates(subset=data_id_column, keep='first', inplace=True)\n",
    "    data = data.groupby(data_id_column).mean(numeric_only=True).reset_index()\n"
   ]
  }
 ],
 "metadata": {
  "kernelspec": {
   "display_name": "base",
   "language": "python",
   "name": "python3"
  },
  "language_info": {
   "codemirror_mode": {
    "name": "ipython",
    "version": 3
   },
   "file_extension": ".py",
   "mimetype": "text/x-python",
   "name": "python",
   "nbconvert_exporter": "python",
   "pygments_lexer": "ipython3",
   "version": "3.11.4"
  },
  "orig_nbformat": 4
 },
 "nbformat": 4,
 "nbformat_minor": 2
}
