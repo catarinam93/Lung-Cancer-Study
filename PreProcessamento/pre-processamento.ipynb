{
 "cells": [
  {
   "cell_type": "code",
   "execution_count": 1,
   "id": "ae0013db",
   "metadata": {},
   "outputs": [
    {
     "data": {
      "text/plain": [
       "'/home/cmonteiro/Aulas/Laboratório de IA e CD/Projeto 1/projeto/bin/python3'"
      ]
     },
     "execution_count": 1,
     "metadata": {},
     "output_type": "execute_result"
    }
   ],
   "source": [
    "import sys\n",
    "sys.executable"
   ]
  },
  {
   "cell_type": "code",
   "execution_count": 2,
   "id": "a80f967c",
   "metadata": {},
   "outputs": [],
   "source": [
    "import pandas as pd\n",
    "import numpy as np\n",
    "import os\n",
    "import pylidc as pl\n",
    "import shutil"
   ]
  },
  {
   "cell_type": "code",
   "execution_count": 3,
   "id": "bad976ed",
   "metadata": {},
   "outputs": [],
   "source": [
    "#Get verifica.ipynb notebook functions\n",
    "%run verifica.ipynb"
   ]
  },
  {
   "cell_type": "markdown",
   "id": "ee22edcb",
   "metadata": {},
   "source": [
    "# Verify if the patients were evaluated"
   ]
  },
  {
   "cell_type": "markdown",
   "id": "63261abb",
   "metadata": {},
   "source": [
    "#### The ones who were not evaluated were eliminated"
   ]
  },
  {
   "cell_type": "code",
   "execution_count": 4,
   "id": "928ef8cc",
   "metadata": {},
   "outputs": [],
   "source": [
    "input_directory = \"/home/cmonteiro/Aulas/Laboratório de IA e CD/Projeto 1/Imagens/LIDC-IDRI\""
   ]
  },
  {
   "cell_type": "markdown",
   "id": "3997ddcc",
   "metadata": {},
   "source": [
    "### Caution: uncomment and only run this piece of code once!"
   ]
  },
  {
   "cell_type": "code",
   "execution_count": 5,
   "id": "aa3bde19",
   "metadata": {},
   "outputs": [],
   "source": [
    "# # List with all the eliminated patients - the one who were not evaluated\n",
    "# deleted_patients = []\n",
    "\n",
    "# # Ordered list of all the subfolders\n",
    "# patient_folders = sorted(os.listdir(input_directory))\n",
    "\n",
    "# for patient_folder in patient_folders:\n",
    "#     patient_folder_path = os.path.join(input_directory, patient_folder)\n",
    "\n",
    "#     # Id of the patient - 'LIDC-IDRI-xxxx'\n",
    "#     patient_id = os.path.basename(patient_folder_path)\n",
    "    \n",
    "#     patient_scans = pl.query(pl.Scan).filter(pl.Scan.patient_id == patient_id)\n",
    "    \n",
    "#     for scan in patient_scans:\n",
    "#         anns = scan.annotations\n",
    "        \n",
    "#         if not anns:\n",
    "#             # Path to the folder we want to eliminate\n",
    "#             delete_folder = os.path.join(input_directory, patient_id) \n",
    "\n",
    "#             # Verify if the folder exists\n",
    "#             if os.path.exists(delete_folder):\n",
    "#                 # Verify if it is a folder\n",
    "#                 if os.path.isdir(delete_folder):\n",
    "#                     # Remove recursively\n",
    "#                     shutil.rmtree(delete_folder)\n",
    "#                     print(f\"The folder '{patient_id}' and its content were removed successfully\")\n",
    "#                     deleted_patients.append(patient_id)\n",
    "#                 else:\n",
    "#                     print(f\"'{patient_id}' is not a folder.\")\n",
    "#             else:\n",
    "#                 print(f\"The folder '{patient_id}' does not exist in the expecified path.\")\n",
    "\n",
    "# # If desired - save the list on a file  \n",
    "# folder = \"deleted_patients.txt\"\n",
    "\n",
    "# with open(folder, 'w') as arquivo:\n",
    "#     # Saves the patients patient_id on a file named deleted_patients.txt\n",
    "#     for element in deleted_patients:\n",
    "#         arquivo.write(element + '\\n')"
   ]
  },
  {
   "cell_type": "code",
   "execution_count": 6,
   "id": "b04e8322",
   "metadata": {},
   "outputs": [
    {
     "name": "stdout",
     "output_type": "stream",
     "text": [
      "['LIDC-IDRI-0028', 'LIDC-IDRI-0032', 'LIDC-IDRI-0062', 'LIDC-IDRI-0071', 'LIDC-IDRI-0100', 'LIDC-IDRI-0143', 'LIDC-IDRI-0174', 'LIDC-IDRI-0189', 'LIDC-IDRI-0197', 'LIDC-IDRI-0205', 'LIDC-IDRI-0214', 'LIDC-IDRI-0218', 'LIDC-IDRI-0224', 'LIDC-IDRI-0225', 'LIDC-IDRI-0226', 'LIDC-IDRI-0239', 'LIDC-IDRI-0253', 'LIDC-IDRI-0261', 'LIDC-IDRI-0279', 'LIDC-IDRI-0293', 'LIDC-IDRI-0295', 'LIDC-IDRI-0306', 'LIDC-IDRI-0307', 'LIDC-IDRI-0316', 'LIDC-IDRI-0322', 'LIDC-IDRI-0327', 'LIDC-IDRI-0330', 'LIDC-IDRI-0331', 'LIDC-IDRI-0333', 'LIDC-IDRI-0336', 'LIDC-IDRI-0342', 'LIDC-IDRI-0349', 'LIDC-IDRI-0361', 'LIDC-IDRI-0364', 'LIDC-IDRI-0382', 'LIDC-IDRI-0383', 'LIDC-IDRI-0389', 'LIDC-IDRI-0391', 'LIDC-IDRI-0401', 'LIDC-IDRI-0410', 'LIDC-IDRI-0417', 'LIDC-IDRI-0418', 'LIDC-IDRI-0422', 'LIDC-IDRI-0425', 'LIDC-IDRI-0428', 'LIDC-IDRI-0441', 'LIDC-IDRI-0446', 'LIDC-IDRI-0455', 'LIDC-IDRI-0465', 'LIDC-IDRI-0472', 'LIDC-IDRI-0482', 'LIDC-IDRI-0506', 'LIDC-IDRI-0511', 'LIDC-IDRI-0512', 'LIDC-IDRI-0513', 'LIDC-IDRI-0514', 'LIDC-IDRI-0519', 'LIDC-IDRI-0528', 'LIDC-IDRI-0531', 'LIDC-IDRI-0536', 'LIDC-IDRI-0540', 'LIDC-IDRI-0544', 'LIDC-IDRI-0548', 'LIDC-IDRI-0561', 'LIDC-IDRI-0564', 'LIDC-IDRI-0573', 'LIDC-IDRI-0589', 'LIDC-IDRI-0600', 'LIDC-IDRI-0603', 'LIDC-IDRI-0612', 'LIDC-IDRI-0616', 'LIDC-IDRI-0622', 'LIDC-IDRI-0623', 'LIDC-IDRI-0627', 'LIDC-IDRI-0632', 'LIDC-IDRI-0646', 'LIDC-IDRI-0653', 'LIDC-IDRI-0665', 'LIDC-IDRI-0667', 'LIDC-IDRI-0668', 'LIDC-IDRI-0679', 'LIDC-IDRI-0683', 'LIDC-IDRI-0685', 'LIDC-IDRI-0689', 'LIDC-IDRI-0690', 'LIDC-IDRI-0691', 'LIDC-IDRI-0710', 'LIDC-IDRI-0711', 'LIDC-IDRI-0716', 'LIDC-IDRI-0718', 'LIDC-IDRI-0731', 'LIDC-IDRI-0737', 'LIDC-IDRI-0738', 'LIDC-IDRI-0745', 'LIDC-IDRI-0746', 'LIDC-IDRI-0755', 'LIDC-IDRI-0760', 'LIDC-IDRI-0764', 'LIDC-IDRI-0774', 'LIDC-IDRI-0784', 'LIDC-IDRI-0804', 'LIDC-IDRI-0808', 'LIDC-IDRI-0839', 'LIDC-IDRI-0853', 'LIDC-IDRI-0862', 'LIDC-IDRI-0876', 'LIDC-IDRI-0877', 'LIDC-IDRI-0878', 'LIDC-IDRI-0881', 'LIDC-IDRI-0885', 'LIDC-IDRI-0887', 'LIDC-IDRI-0889', 'LIDC-IDRI-0891', 'LIDC-IDRI-0897', 'LIDC-IDRI-0900', 'LIDC-IDRI-0901', 'LIDC-IDRI-0903', 'LIDC-IDRI-0918', 'LIDC-IDRI-0927', 'LIDC-IDRI-0930', 'LIDC-IDRI-0931', 'LIDC-IDRI-0934', 'LIDC-IDRI-0937', 'LIDC-IDRI-0948', 'LIDC-IDRI-0952', 'LIDC-IDRI-0954', 'LIDC-IDRI-0960', 'LIDC-IDRI-0964', 'LIDC-IDRI-0967', 'LIDC-IDRI-0970', 'LIDC-IDRI-0975', 'LIDC-IDRI-0979', 'LIDC-IDRI-0988', 'LIDC-IDRI-0992', 'LIDC-IDRI-0995']\n"
     ]
    }
   ],
   "source": [
    "nome_arquivo = 'deleted_patients.txt'\n",
    "\n",
    "deleted_patients = []\n",
    "\n",
    "try:\n",
    "    with open(nome_arquivo, 'r') as arquivo:\n",
    "        for linha in arquivo:\n",
    "            # Clean the line\n",
    "            linha = linha.strip()\n",
    "            deleted_patients.append(linha)\n",
    "except FileNotFoundError:\n",
    "    print(f\"The archive '{nome_arquivo}' was not found.\")\n",
    "except Exception as e:\n",
    "    print(f\"It occured an error reading the archive: {str(e)}\")\n",
    "\n",
    "print(deleted_patients)"
   ]
  }
 ],
 "metadata": {
  "kernelspec": {
   "display_name": "Python 3 (ipykernel)",
   "language": "python",
   "name": "python3"
  },
  "language_info": {
   "codemirror_mode": {
    "name": "ipython",
    "version": 3
   },
   "file_extension": ".py",
   "mimetype": "text/x-python",
   "name": "python",
   "nbconvert_exporter": "python",
   "pygments_lexer": "ipython3",
   "version": "3.9.5"
  }
 },
 "nbformat": 4,
 "nbformat_minor": 5
}
