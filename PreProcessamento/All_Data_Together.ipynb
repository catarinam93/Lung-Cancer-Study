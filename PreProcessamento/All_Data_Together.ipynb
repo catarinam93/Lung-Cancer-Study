{
 "cells": [
  {
   "cell_type": "code",
   "execution_count": 1,
   "metadata": {},
   "outputs": [],
   "source": [
    "import os\n",
    "import pandas as pd\n",
    "import numpy as np\n"
   ]
  },
  {
   "cell_type": "code",
   "execution_count": 2,
   "metadata": {},
   "outputs": [
    {
     "name": "stdout",
     "output_type": "stream",
     "text": [
      "['LIDC-IDRI-0028', 'LIDC-IDRI-0032', 'LIDC-IDRI-0062', 'LIDC-IDRI-0071', 'LIDC-IDRI-0100', 'LIDC-IDRI-0143', 'LIDC-IDRI-0174', 'LIDC-IDRI-0189', 'LIDC-IDRI-0197', 'LIDC-IDRI-0205', 'LIDC-IDRI-0214', 'LIDC-IDRI-0218', 'LIDC-IDRI-0224', 'LIDC-IDRI-0225', 'LIDC-IDRI-0226', 'LIDC-IDRI-0239', 'LIDC-IDRI-0253', 'LIDC-IDRI-0261', 'LIDC-IDRI-0279', 'LIDC-IDRI-0293', 'LIDC-IDRI-0295', 'LIDC-IDRI-0306', 'LIDC-IDRI-0307', 'LIDC-IDRI-0316', 'LIDC-IDRI-0322', 'LIDC-IDRI-0327', 'LIDC-IDRI-0330', 'LIDC-IDRI-0331', 'LIDC-IDRI-0333', 'LIDC-IDRI-0336', 'LIDC-IDRI-0342', 'LIDC-IDRI-0349', 'LIDC-IDRI-0361', 'LIDC-IDRI-0364', 'LIDC-IDRI-0382', 'LIDC-IDRI-0383', 'LIDC-IDRI-0389', 'LIDC-IDRI-0391', 'LIDC-IDRI-0401', 'LIDC-IDRI-0410', 'LIDC-IDRI-0417', 'LIDC-IDRI-0418', 'LIDC-IDRI-0422', 'LIDC-IDRI-0425', 'LIDC-IDRI-0428', 'LIDC-IDRI-0441', 'LIDC-IDRI-0446', 'LIDC-IDRI-0455', 'LIDC-IDRI-0465', 'LIDC-IDRI-0472', 'LIDC-IDRI-0482', 'LIDC-IDRI-0506', 'LIDC-IDRI-0511', 'LIDC-IDRI-0512', 'LIDC-IDRI-0513', 'LIDC-IDRI-0514', 'LIDC-IDRI-0519', 'LIDC-IDRI-0528', 'LIDC-IDRI-0531', 'LIDC-IDRI-0536', 'LIDC-IDRI-0540', 'LIDC-IDRI-0544', 'LIDC-IDRI-0548', 'LIDC-IDRI-0561', 'LIDC-IDRI-0564', 'LIDC-IDRI-0573', 'LIDC-IDRI-0589', 'LIDC-IDRI-0600', 'LIDC-IDRI-0603', 'LIDC-IDRI-0612', 'LIDC-IDRI-0616', 'LIDC-IDRI-0622', 'LIDC-IDRI-0623', 'LIDC-IDRI-0627', 'LIDC-IDRI-0632', 'LIDC-IDRI-0646', 'LIDC-IDRI-0653', 'LIDC-IDRI-0665', 'LIDC-IDRI-0667', 'LIDC-IDRI-0668', 'LIDC-IDRI-0679', 'LIDC-IDRI-0683', 'LIDC-IDRI-0685', 'LIDC-IDRI-0689', 'LIDC-IDRI-0690', 'LIDC-IDRI-0691', 'LIDC-IDRI-0710', 'LIDC-IDRI-0711', 'LIDC-IDRI-0716', 'LIDC-IDRI-0718', 'LIDC-IDRI-0731', 'LIDC-IDRI-0737', 'LIDC-IDRI-0738', 'LIDC-IDRI-0745', 'LIDC-IDRI-0746', 'LIDC-IDRI-0755', 'LIDC-IDRI-0760', 'LIDC-IDRI-0764', 'LIDC-IDRI-0774', 'LIDC-IDRI-0784', 'LIDC-IDRI-0804', 'LIDC-IDRI-0808', 'LIDC-IDRI-0839', 'LIDC-IDRI-0853', 'LIDC-IDRI-0862', 'LIDC-IDRI-0876', 'LIDC-IDRI-0877', 'LIDC-IDRI-0878', 'LIDC-IDRI-0881', 'LIDC-IDRI-0885', 'LIDC-IDRI-0887', 'LIDC-IDRI-0889', 'LIDC-IDRI-0891', 'LIDC-IDRI-0897', 'LIDC-IDRI-0900', 'LIDC-IDRI-0901', 'LIDC-IDRI-0903', 'LIDC-IDRI-0918', 'LIDC-IDRI-0927', 'LIDC-IDRI-0930', 'LIDC-IDRI-0931', 'LIDC-IDRI-0934', 'LIDC-IDRI-0937', 'LIDC-IDRI-0948', 'LIDC-IDRI-0952', 'LIDC-IDRI-0954', 'LIDC-IDRI-0960', 'LIDC-IDRI-0964', 'LIDC-IDRI-0967', 'LIDC-IDRI-0970', 'LIDC-IDRI-0975', 'LIDC-IDRI-0979', 'LIDC-IDRI-0988', 'LIDC-IDRI-0992', 'LIDC-IDRI-0995']\n",
      "The format of IDs in column 'TCIA Patient ID' is the same (LIDC-IDRI- followed by a four-digit number).\n",
      "No duplicated IDs found in column 'TCIA Patient ID'.\n",
      "Missing values in TCIA Patient ID: 0\n",
      "Missing values in Diagnosis at the patient: 0\n",
      "Missing values in Diagnosis Method: 0\n",
      "Missing values in Primary tumor site for metastatic disease: 0\n",
      "Missing values in Nodule 1 Diagnosis at the Nodule Level: 20\n",
      "Missing values in Nodule 1 Diagnosis Method at the Nodule Level: 20\n",
      "Missing values in Nodule 2 Diagnosis at the Nodule Level: 124\n",
      "Missing values in Nodule 2 Diagnosis Method at the Nodule Level: 124\n",
      "Missing values in Nodule 3 Diagnosis at the Nodule Level: 141\n",
      "Missing values in Nodule 3 Diagnosis Method at the Nodule Level: 141\n",
      "Missing values in Nodule 4 Diagnosis at the Nodule Level: 142\n",
      "Missing values in Nodule 4 Diagnosis Method at the Nodule Level: 142\n",
      "Missing values in Nodule 5 Diagnosis at the Nodule Level: 142\n",
      "Missing values in Nodule 5 Diagnosis Method at the Nodule Level: 142\n",
      "[3 2 1 0]\n",
      "The format of IDs in column 'TCIA Patient ID' is not the same.\n",
      "IDs with different formats:\n",
      "nan\n",
      "Duplicated IDs in column 'TCIA Patient ID':\n",
      "['LIDC-IDRI-0132' 'LIDC-IDRI-0151' 'LIDC-IDRI-0315' 'LIDC-IDRI-0332'\n",
      " 'LIDC-IDRI-0355' 'LIDC-IDRI-0365' 'LIDC-IDRI-0442' 'LIDC-IDRI-0484']\n",
      "Missing values in TCIA Patient ID: 1\n",
      "Missing values in Total Number of Nodules* : 0\n",
      "Missing values in Number of Nodules >=3mm**: 0\n",
      "Missing values in Number of Nodules <3mm***: 0\n",
      "Missing values in Unnamed: 4: 884\n",
      "Missing values in Unnamed: 5: 881\n",
      "Missing values in TCIA Patient ID: 0\n",
      "Missing values in Total Number of Nodules* : 0\n",
      "Missing values in Number of Nodules >=3mm**: 0\n",
      "Missing values in Number of Nodules <3mm***: 0\n",
      "Missing values in Unnamed: 4: 883\n",
      "Missing values in Unnamed: 5: 880\n",
      "Duplicated IDs in column 'TCIA Patient ID':\n",
      "['LIDC-IDRI-0132' 'LIDC-IDRI-0151' 'LIDC-IDRI-0315' 'LIDC-IDRI-0332'\n",
      " 'LIDC-IDRI-0355' 'LIDC-IDRI-0365' 'LIDC-IDRI-0442' 'LIDC-IDRI-0484']\n",
      "There are different IDs between the two columns.\n",
      "There are no null values in radiologists\n",
      "There are no null values in nodule\n",
      "No IDs with whitespace\n",
      "No IDs with whitespace\n",
      "The format of IDs in column 'Subject ID' is the same (LIDC-IDRI- followed by a four-digit number).\n",
      "Duplicated IDs in column 'Subject ID':\n",
      "['LIDC-IDRI-0159' 'LIDC-IDRI-0182' 'LIDC-IDRI-0026' 'LIDC-IDRI-0252'\n",
      " 'LIDC-IDRI-0249' 'LIDC-IDRI-0187' 'LIDC-IDRI-0245' 'LIDC-IDRI-0134'\n",
      " 'LIDC-IDRI-0123' 'LIDC-IDRI-0066' 'LIDC-IDRI-0138' 'LIDC-IDRI-0114'\n",
      " 'LIDC-IDRI-0236' 'LIDC-IDRI-0278' 'LIDC-IDRI-0184' 'LIDC-IDRI-0122'\n",
      " 'LIDC-IDRI-0017' 'LIDC-IDRI-0165' 'LIDC-IDRI-0285' 'LIDC-IDRI-0286'\n",
      " 'LIDC-IDRI-0124' 'LIDC-IDRI-0111' 'LIDC-IDRI-0088' 'LIDC-IDRI-0202'\n",
      " 'LIDC-IDRI-0060' 'LIDC-IDRI-0135' 'LIDC-IDRI-0030' 'LIDC-IDRI-0095'\n",
      " 'LIDC-IDRI-0154' 'LIDC-IDRI-0096' 'LIDC-IDRI-0042' 'LIDC-IDRI-0038'\n",
      " 'LIDC-IDRI-0144' 'LIDC-IDRI-0166' 'LIDC-IDRI-0260' 'LIDC-IDRI-0229'\n",
      " 'LIDC-IDRI-0207' 'LIDC-IDRI-0046' 'LIDC-IDRI-0031' 'LIDC-IDRI-0108'\n",
      " 'LIDC-IDRI-0039' 'LIDC-IDRI-0043' 'LIDC-IDRI-0052' 'LIDC-IDRI-0044'\n",
      " 'LIDC-IDRI-0005' 'LIDC-IDRI-0033' 'LIDC-IDRI-0262' 'LIDC-IDRI-0059'\n",
      " 'LIDC-IDRI-0101' 'LIDC-IDRI-0086' 'LIDC-IDRI-0148' 'LIDC-IDRI-0093'\n",
      " 'LIDC-IDRI-0126' 'LIDC-IDRI-0047' 'LIDC-IDRI-0065' 'LIDC-IDRI-0118'\n",
      " 'LIDC-IDRI-0242' 'LIDC-IDRI-0104' 'LIDC-IDRI-0069' 'LIDC-IDRI-0484'\n",
      " 'LIDC-IDRI-0006' 'LIDC-IDRI-0133' 'LIDC-IDRI-0115' 'LIDC-IDRI-0063'\n",
      " 'LIDC-IDRI-0216' 'LIDC-IDRI-0091' 'LIDC-IDRI-0280' 'LIDC-IDRI-0193'\n",
      " 'LIDC-IDRI-0041' 'LIDC-IDRI-0153' 'LIDC-IDRI-0140' 'LIDC-IDRI-0206'\n",
      " 'LIDC-IDRI-0073' 'LIDC-IDRI-0015' 'LIDC-IDRI-0011' 'LIDC-IDRI-0178'\n",
      " 'LIDC-IDRI-0014' 'LIDC-IDRI-0277' 'LIDC-IDRI-0001' 'LIDC-IDRI-0003'\n",
      " 'LIDC-IDRI-0094' 'LIDC-IDRI-0161' 'LIDC-IDRI-0087' 'LIDC-IDRI-0089'\n",
      " 'LIDC-IDRI-0157' 'LIDC-IDRI-0188' 'LIDC-IDRI-0113' 'LIDC-IDRI-0355'\n",
      " 'LIDC-IDRI-0204' 'LIDC-IDRI-0009' 'LIDC-IDRI-0027' 'LIDC-IDRI-0200'\n",
      " 'LIDC-IDRI-0283' 'LIDC-IDRI-0058' 'LIDC-IDRI-0132' 'LIDC-IDRI-0024'\n",
      " 'LIDC-IDRI-0016' 'LIDC-IDRI-0183' 'LIDC-IDRI-0072' 'LIDC-IDRI-0029'\n",
      " 'LIDC-IDRI-0241' 'LIDC-IDRI-0274' 'LIDC-IDRI-0085' 'LIDC-IDRI-0120'\n",
      " 'LIDC-IDRI-0146' 'LIDC-IDRI-0090' 'LIDC-IDRI-0332' 'LIDC-IDRI-0196'\n",
      " 'LIDC-IDRI-0194' 'LIDC-IDRI-0035' 'LIDC-IDRI-0056' 'LIDC-IDRI-0020'\n",
      " 'LIDC-IDRI-0235' 'LIDC-IDRI-0152' 'LIDC-IDRI-0156' 'LIDC-IDRI-0103'\n",
      " 'LIDC-IDRI-0291' 'LIDC-IDRI-0180' 'LIDC-IDRI-0288' 'LIDC-IDRI-0109'\n",
      " 'LIDC-IDRI-0081' 'LIDC-IDRI-0192' 'LIDC-IDRI-0211' 'LIDC-IDRI-0248'\n",
      " 'LIDC-IDRI-0054' 'LIDC-IDRI-0013' 'LIDC-IDRI-0129' 'LIDC-IDRI-0217'\n",
      " 'LIDC-IDRI-0272' 'LIDC-IDRI-0075' 'LIDC-IDRI-0275' 'LIDC-IDRI-0036'\n",
      " 'LIDC-IDRI-0232' 'LIDC-IDRI-0070' 'LIDC-IDRI-0234' 'LIDC-IDRI-0223'\n",
      " 'LIDC-IDRI-0186' 'LIDC-IDRI-0128' 'LIDC-IDRI-0240' 'LIDC-IDRI-0263'\n",
      " 'LIDC-IDRI-0050' 'LIDC-IDRI-0119' 'LIDC-IDRI-0061' 'LIDC-IDRI-0068'\n",
      " 'LIDC-IDRI-0022' 'LIDC-IDRI-0219' 'LIDC-IDRI-0147' 'LIDC-IDRI-0233'\n",
      " 'LIDC-IDRI-0021' 'LIDC-IDRI-0102' 'LIDC-IDRI-0210' 'LIDC-IDRI-0191'\n",
      " 'LIDC-IDRI-0185' 'LIDC-IDRI-0213' 'LIDC-IDRI-0092' 'LIDC-IDRI-0169'\n",
      " 'LIDC-IDRI-0131' 'LIDC-IDRI-0222' 'LIDC-IDRI-0137' 'LIDC-IDRI-0179'\n",
      " 'LIDC-IDRI-0116' 'LIDC-IDRI-0130' 'LIDC-IDRI-0268' 'LIDC-IDRI-0083'\n",
      " 'LIDC-IDRI-0067' 'LIDC-IDRI-0201' 'LIDC-IDRI-0136' 'LIDC-IDRI-0365'\n",
      " 'LIDC-IDRI-0171' 'LIDC-IDRI-0220' 'LIDC-IDRI-0107' 'LIDC-IDRI-0004'\n",
      " 'LIDC-IDRI-0231' 'LIDC-IDRI-0170' 'LIDC-IDRI-0195' 'LIDC-IDRI-0168'\n",
      " 'LIDC-IDRI-0276' 'LIDC-IDRI-0010' 'LIDC-IDRI-0079' 'LIDC-IDRI-0177'\n",
      " 'LIDC-IDRI-0055' 'LIDC-IDRI-0265' 'LIDC-IDRI-0230' 'LIDC-IDRI-0164'\n",
      " 'LIDC-IDRI-0289' 'LIDC-IDRI-0037' 'LIDC-IDRI-0099' 'LIDC-IDRI-0258'\n",
      " 'LIDC-IDRI-0097' 'LIDC-IDRI-0149' 'LIDC-IDRI-0121' 'LIDC-IDRI-0442'\n",
      " 'LIDC-IDRI-0045' 'LIDC-IDRI-0127' 'LIDC-IDRI-0250' 'LIDC-IDRI-0256'\n",
      " 'LIDC-IDRI-0007' 'LIDC-IDRI-0125' 'LIDC-IDRI-0142' 'LIDC-IDRI-0155'\n",
      " 'LIDC-IDRI-0049' 'LIDC-IDRI-0012' 'LIDC-IDRI-0203' 'LIDC-IDRI-0150'\n",
      " 'LIDC-IDRI-0255' 'LIDC-IDRI-0082' 'LIDC-IDRI-0198' 'LIDC-IDRI-0259'\n",
      " 'LIDC-IDRI-0181' 'LIDC-IDRI-0247' 'LIDC-IDRI-0158' 'LIDC-IDRI-0267'\n",
      " 'LIDC-IDRI-0176' 'LIDC-IDRI-0271' 'LIDC-IDRI-0269' 'LIDC-IDRI-0048'\n",
      " 'LIDC-IDRI-0106' 'LIDC-IDRI-0057' 'LIDC-IDRI-0209' 'LIDC-IDRI-0077'\n",
      " 'LIDC-IDRI-0282' 'LIDC-IDRI-0212' 'LIDC-IDRI-0264' 'LIDC-IDRI-0221'\n",
      " 'LIDC-IDRI-0117' 'LIDC-IDRI-0162' 'LIDC-IDRI-0141' 'LIDC-IDRI-0273'\n",
      " 'LIDC-IDRI-0008' 'LIDC-IDRI-0244' 'LIDC-IDRI-0163' 'LIDC-IDRI-0040'\n",
      " 'LIDC-IDRI-0167' 'LIDC-IDRI-0084' 'LIDC-IDRI-0051' 'LIDC-IDRI-0270'\n",
      " 'LIDC-IDRI-0173' 'LIDC-IDRI-0098' 'LIDC-IDRI-0237' 'LIDC-IDRI-0281'\n",
      " 'LIDC-IDRI-0053' 'LIDC-IDRI-0199' 'LIDC-IDRI-0257' 'LIDC-IDRI-0078'\n",
      " 'LIDC-IDRI-0190' 'LIDC-IDRI-0251' 'LIDC-IDRI-0243' 'LIDC-IDRI-0208'\n",
      " 'LIDC-IDRI-0110' 'LIDC-IDRI-0175' 'LIDC-IDRI-0215' 'LIDC-IDRI-0112'\n",
      " 'LIDC-IDRI-0284' 'LIDC-IDRI-0315' 'LIDC-IDRI-0228' 'LIDC-IDRI-0025'\n",
      " 'LIDC-IDRI-0105' 'LIDC-IDRI-0019' 'LIDC-IDRI-0145' 'LIDC-IDRI-0227'\n",
      " 'LIDC-IDRI-0034' 'LIDC-IDRI-0074' 'LIDC-IDRI-0290' 'LIDC-IDRI-0266'\n",
      " 'LIDC-IDRI-0172' 'LIDC-IDRI-0160' 'LIDC-IDRI-0287' 'LIDC-IDRI-0151'\n",
      " 'LIDC-IDRI-0018' 'LIDC-IDRI-0139' 'LIDC-IDRI-0076' 'LIDC-IDRI-0064'\n",
      " 'LIDC-IDRI-0023' 'LIDC-IDRI-0002' 'LIDC-IDRI-0080' 'LIDC-IDRI-0254'\n",
      " 'LIDC-IDRI-0246']\n",
      "Missing values in Subject ID: 0\n",
      "Missing values in Study UID: 0\n",
      "Missing values in Study Description: 651\n",
      "Missing values in Study Date: 0\n",
      "Missing values in Series ID: 0\n",
      "Missing values in Series Description: 737\n",
      "Missing values in Number of images: 0\n",
      "Missing values in File Size (Bytes): 0\n",
      "Missing values in Collection Name: 0\n",
      "Missing values in Modality: 0\n",
      "Missing values in Manufacturer: 0\n",
      "There are 1388 null values in metadata\n",
      "No duplicated IDs found in column 'Subject ID'.\n",
      "Common IDs found between the two datasets:\n",
      "{'LIDC-IDRI-0999', 'LIDC-IDRI-0450', 'LIDC-IDRI-0594', 'LIDC-IDRI-0756', 'LIDC-IDRI-0407', 'LIDC-IDRI-0686', 'LIDC-IDRI-0166', 'LIDC-IDRI-0500', 'LIDC-IDRI-0875', 'LIDC-IDRI-0675', 'LIDC-IDRI-0976', 'LIDC-IDRI-0094', 'LIDC-IDRI-0644', 'LIDC-IDRI-0291', 'LIDC-IDRI-0409', 'LIDC-IDRI-0168', 'LIDC-IDRI-0729', 'LIDC-IDRI-0541', 'LIDC-IDRI-0426', 'LIDC-IDRI-0545', 'LIDC-IDRI-0231', 'LIDC-IDRI-0047', 'LIDC-IDRI-0392', 'LIDC-IDRI-0788', 'LIDC-IDRI-0916', 'LIDC-IDRI-0932', 'LIDC-IDRI-0198', 'LIDC-IDRI-0851', 'LIDC-IDRI-0856', 'LIDC-IDRI-0387', 'LIDC-IDRI-0411', 'LIDC-IDRI-0530', 'LIDC-IDRI-0578', 'LIDC-IDRI-0775', 'LIDC-IDRI-0989', 'LIDC-IDRI-0173', 'LIDC-IDRI-0629', 'LIDC-IDRI-0318', 'LIDC-IDRI-0473', 'LIDC-IDRI-0983', 'LIDC-IDRI-0826', 'LIDC-IDRI-0660', 'LIDC-IDRI-0677', 'LIDC-IDRI-0103', 'LIDC-IDRI-0527', 'LIDC-IDRI-0035', 'LIDC-IDRI-0647', 'LIDC-IDRI-0867', 'LIDC-IDRI-0753', 'LIDC-IDRI-0942', 'LIDC-IDRI-0501', 'LIDC-IDRI-0456', 'LIDC-IDRI-0209', 'LIDC-IDRI-0748', 'LIDC-IDRI-0259', 'LIDC-IDRI-1004', 'LIDC-IDRI-0248', 'LIDC-IDRI-0890', 'LIDC-IDRI-0643', 'LIDC-IDRI-0360', 'LIDC-IDRI-0375', 'LIDC-IDRI-0591', 'LIDC-IDRI-0089', 'LIDC-IDRI-0141', 'LIDC-IDRI-0273', 'LIDC-IDRI-0393', 'LIDC-IDRI-0061', 'LIDC-IDRI-0663', 'LIDC-IDRI-0768', 'LIDC-IDRI-0811', 'LIDC-IDRI-0216', 'LIDC-IDRI-0858', 'LIDC-IDRI-0593', 'LIDC-IDRI-0978', 'LIDC-IDRI-0074', 'LIDC-IDRI-0311', 'LIDC-IDRI-0476', 'LIDC-IDRI-0486', 'LIDC-IDRI-0752', 'LIDC-IDRI-0121', 'LIDC-IDRI-0400', 'LIDC-IDRI-0185', 'LIDC-IDRI-0289', 'LIDC-IDRI-0445', 'LIDC-IDRI-0771', 'LIDC-IDRI-0800', 'LIDC-IDRI-0605', 'LIDC-IDRI-0423', 'LIDC-IDRI-0491', 'LIDC-IDRI-0780', 'LIDC-IDRI-0550', 'LIDC-IDRI-0180', 'LIDC-IDRI-0299', 'LIDC-IDRI-0837', 'LIDC-IDRI-0854', 'LIDC-IDRI-0933', 'LIDC-IDRI-0142', 'LIDC-IDRI-0957', 'LIDC-IDRI-0290', 'LIDC-IDRI-0733', 'LIDC-IDRI-0169', 'LIDC-IDRI-0481', 'LIDC-IDRI-0730', 'LIDC-IDRI-0013', 'LIDC-IDRI-0807', 'LIDC-IDRI-0549', 'LIDC-IDRI-0611', 'LIDC-IDRI-0744', 'LIDC-IDRI-0630', 'LIDC-IDRI-0051', 'LIDC-IDRI-0390', 'LIDC-IDRI-0566', 'LIDC-IDRI-0747', 'LIDC-IDRI-0090', 'LIDC-IDRI-0027', 'LIDC-IDRI-0065', 'LIDC-IDRI-1003', 'LIDC-IDRI-0277', 'LIDC-IDRI-0287', 'LIDC-IDRI-0064', 'LIDC-IDRI-0125', 'LIDC-IDRI-0328', 'LIDC-IDRI-0294', 'LIDC-IDRI-0972', 'LIDC-IDRI-0025', 'LIDC-IDRI-0684', 'LIDC-IDRI-0085', 'LIDC-IDRI-0926', 'LIDC-IDRI-0368', 'LIDC-IDRI-0724', 'LIDC-IDRI-0863', 'LIDC-IDRI-0049', 'LIDC-IDRI-0725', 'LIDC-IDRI-0029', 'LIDC-IDRI-0993', 'LIDC-IDRI-0998', 'LIDC-IDRI-0681', 'LIDC-IDRI-0702', 'LIDC-IDRI-0829', 'LIDC-IDRI-0656', 'LIDC-IDRI-0339', 'LIDC-IDRI-1000', 'LIDC-IDRI-0067', 'LIDC-IDRI-0607', 'LIDC-IDRI-0704', 'LIDC-IDRI-0175', 'LIDC-IDRI-0817', 'LIDC-IDRI-0588', 'LIDC-IDRI-0009', 'LIDC-IDRI-0485', 'LIDC-IDRI-0757', 'LIDC-IDRI-0190', 'LIDC-IDRI-0270', 'LIDC-IDRI-0346', 'LIDC-IDRI-0968', 'LIDC-IDRI-0347', 'LIDC-IDRI-0816', 'LIDC-IDRI-0257', 'LIDC-IDRI-0802', 'LIDC-IDRI-0138', 'LIDC-IDRI-0420', 'LIDC-IDRI-0317', 'LIDC-IDRI-0907', 'LIDC-IDRI-0160', 'LIDC-IDRI-0494', 'LIDC-IDRI-0832', 'LIDC-IDRI-0693', 'LIDC-IDRI-0057', 'LIDC-IDRI-0229', 'LIDC-IDRI-0882', 'LIDC-IDRI-0599', 'LIDC-IDRI-0220', 'LIDC-IDRI-0457', 'LIDC-IDRI-0712', 'LIDC-IDRI-0033', 'LIDC-IDRI-0408', 'LIDC-IDRI-0563', 'LIDC-IDRI-0155', 'LIDC-IDRI-0836', 'LIDC-IDRI-0994', 'LIDC-IDRI-0509', 'LIDC-IDRI-0838', 'LIDC-IDRI-0776', 'LIDC-IDRI-0517', 'LIDC-IDRI-0961', 'LIDC-IDRI-0370', 'LIDC-IDRI-0797', 'LIDC-IDRI-0587', 'LIDC-IDRI-0244', 'LIDC-IDRI-0362', 'LIDC-IDRI-0615', 'LIDC-IDRI-0230', 'LIDC-IDRI-0651', 'LIDC-IDRI-0352', 'LIDC-IDRI-0538', 'LIDC-IDRI-0560', 'LIDC-IDRI-0188', 'LIDC-IDRI-0950', 'LIDC-IDRI-0245', 'LIDC-IDRI-0355', 'LIDC-IDRI-0734', 'LIDC-IDRI-0402', 'LIDC-IDRI-0590', 'LIDC-IDRI-0987', 'LIDC-IDRI-0388', 'LIDC-IDRI-0242', 'LIDC-IDRI-0292', 'LIDC-IDRI-0046', 'LIDC-IDRI-0606', 'LIDC-IDRI-0888', 'LIDC-IDRI-0452', 'LIDC-IDRI-0696', 'LIDC-IDRI-0474', 'LIDC-IDRI-0447', 'LIDC-IDRI-0440', 'LIDC-IDRI-0313', 'LIDC-IDRI-0761', 'LIDC-IDRI-0750', 'LIDC-IDRI-0343', 'LIDC-IDRI-0559', 'LIDC-IDRI-0845', 'LIDC-IDRI-0735', 'LIDC-IDRI-0532', 'LIDC-IDRI-0344', 'LIDC-IDRI-0256', 'LIDC-IDRI-0053', 'LIDC-IDRI-0265', 'LIDC-IDRI-0448', 'LIDC-IDRI-0006', 'LIDC-IDRI-0072', 'LIDC-IDRI-1001', 'LIDC-IDRI-0894', 'LIDC-IDRI-0196', 'LIDC-IDRI-0489', 'LIDC-IDRI-0374', 'LIDC-IDRI-0022', 'LIDC-IDRI-0717', 'LIDC-IDRI-0751', 'LIDC-IDRI-0577', 'LIDC-IDRI-0275', 'LIDC-IDRI-0086', 'LIDC-IDRI-0357', 'LIDC-IDRI-0672', 'LIDC-IDRI-0857', 'LIDC-IDRI-0557', 'LIDC-IDRI-0439', 'LIDC-IDRI-0243', 'LIDC-IDRI-0167', 'LIDC-IDRI-0969', 'LIDC-IDRI-0308', 'LIDC-IDRI-0777', 'LIDC-IDRI-0384', 'LIDC-IDRI-0762', 'LIDC-IDRI-0101', 'LIDC-IDRI-0267', 'LIDC-IDRI-0794', 'LIDC-IDRI-0204', 'LIDC-IDRI-0609', 'LIDC-IDRI-0848', 'LIDC-IDRI-0703', 'LIDC-IDRI-0958', 'LIDC-IDRI-0181', 'LIDC-IDRI-0911', 'LIDC-IDRI-0895', 'LIDC-IDRI-0936', 'LIDC-IDRI-0991', 'LIDC-IDRI-0571', 'LIDC-IDRI-0470', 'LIDC-IDRI-0971', 'LIDC-IDRI-0825', 'LIDC-IDRI-0076', 'LIDC-IDRI-0634', 'LIDC-IDRI-0052', 'LIDC-IDRI-0128', 'LIDC-IDRI-0325', 'LIDC-IDRI-0237', 'LIDC-IDRI-0082', 'LIDC-IDRI-0657', 'LIDC-IDRI-0380', 'LIDC-IDRI-0050', 'LIDC-IDRI-0070', 'LIDC-IDRI-0444', 'LIDC-IDRI-0966', 'LIDC-IDRI-0860', 'LIDC-IDRI-0014', 'LIDC-IDRI-0834', 'LIDC-IDRI-0129', 'LIDC-IDRI-0977', 'LIDC-IDRI-0553', 'LIDC-IDRI-0298', 'LIDC-IDRI-0929', 'LIDC-IDRI-0874', 'LIDC-IDRI-0707', 'LIDC-IDRI-0893', 'LIDC-IDRI-0503', 'LIDC-IDRI-0268', 'LIDC-IDRI-0106', 'LIDC-IDRI-0043', 'LIDC-IDRI-0303', 'LIDC-IDRI-0321', 'LIDC-IDRI-0955', 'LIDC-IDRI-0184', 'LIDC-IDRI-0432', 'LIDC-IDRI-0892', 'LIDC-IDRI-0340', 'LIDC-IDRI-0228', 'LIDC-IDRI-0179', 'LIDC-IDRI-0223', 'LIDC-IDRI-0233', 'LIDC-IDRI-0739', 'LIDC-IDRI-0782', 'LIDC-IDRI-0211', 'LIDC-IDRI-0338', 'LIDC-IDRI-0658', 'LIDC-IDRI-0363', 'LIDC-IDRI-0801', 'LIDC-IDRI-0855', 'LIDC-IDRI-0234', 'LIDC-IDRI-0529', 'LIDC-IDRI-0537', 'LIDC-IDRI-0649', 'LIDC-IDRI-0740', 'LIDC-IDRI-0201', 'LIDC-IDRI-0087', 'LIDC-IDRI-0283', 'LIDC-IDRI-0490', 'LIDC-IDRI-0928', 'LIDC-IDRI-0068', 'LIDC-IDRI-0016', 'LIDC-IDRI-0177', 'LIDC-IDRI-0403', 'LIDC-IDRI-0461', 'LIDC-IDRI-0555', 'LIDC-IDRI-0496', 'LIDC-IDRI-0943', 'LIDC-IDRI-0871', 'LIDC-IDRI-0917', 'LIDC-IDRI-0157', 'LIDC-IDRI-0880', 'LIDC-IDRI-0132', 'LIDC-IDRI-0323', 'LIDC-IDRI-0493', 'LIDC-IDRI-0080', 'LIDC-IDRI-0659', 'LIDC-IDRI-0619', 'LIDC-IDRI-0796', 'LIDC-IDRI-0864', 'LIDC-IDRI-0896', 'LIDC-IDRI-0478', 'LIDC-IDRI-0637', 'LIDC-IDRI-0319', 'LIDC-IDRI-0682', 'LIDC-IDRI-0687', 'LIDC-IDRI-0066', 'LIDC-IDRI-0208', 'LIDC-IDRI-0526', 'LIDC-IDRI-0373', 'LIDC-IDRI-0680', 'LIDC-IDRI-0058', 'LIDC-IDRI-0297', 'LIDC-IDRI-0054', 'LIDC-IDRI-0396', 'LIDC-IDRI-0397', 'LIDC-IDRI-0002', 'LIDC-IDRI-0507', 'LIDC-IDRI-0372', 'LIDC-IDRI-0521', 'LIDC-IDRI-0713', 'LIDC-IDRI-0732', 'LIDC-IDRI-0115', 'LIDC-IDRI-0965', 'LIDC-IDRI-0575', 'LIDC-IDRI-0923', 'LIDC-IDRI-0421', 'LIDC-IDRI-0904', 'LIDC-IDRI-0565', 'LIDC-IDRI-0584', 'LIDC-IDRI-0795', 'LIDC-IDRI-0655', 'LIDC-IDRI-0721', 'LIDC-IDRI-0210', 'LIDC-IDRI-0613', 'LIDC-IDRI-0638', 'LIDC-IDRI-0030', 'LIDC-IDRI-0309', 'LIDC-IDRI-0700', 'LIDC-IDRI-0005', 'LIDC-IDRI-0821', 'LIDC-IDRI-0186', 'LIDC-IDRI-0252', 'LIDC-IDRI-0314', 'LIDC-IDRI-0912', 'LIDC-IDRI-0145', 'LIDC-IDRI-0488', 'LIDC-IDRI-0945', 'LIDC-IDRI-0953', 'LIDC-IDRI-0163', 'LIDC-IDRI-0001', 'LIDC-IDRI-0850', 'LIDC-IDRI-0598', 'LIDC-IDRI-0247', 'LIDC-IDRI-0395', 'LIDC-IDRI-0908', 'LIDC-IDRI-0376', 'LIDC-IDRI-0791', 'LIDC-IDRI-0217', 'LIDC-IDRI-0284', 'LIDC-IDRI-0810', 'LIDC-IDRI-0111', 'LIDC-IDRI-0884', 'LIDC-IDRI-0592', 'LIDC-IDRI-0468', 'LIDC-IDRI-0131', 'LIDC-IDRI-0170', 'LIDC-IDRI-0546', 'LIDC-IDRI-0835', 'LIDC-IDRI-0178', 'LIDC-IDRI-0044', 'LIDC-IDRI-0451', 'LIDC-IDRI-0579', 'LIDC-IDRI-0399', 'LIDC-IDRI-0236', 'LIDC-IDRI-0467', 'LIDC-IDRI-0583', 'LIDC-IDRI-0377', 'LIDC-IDRI-0568', 'LIDC-IDRI-0828', 'LIDC-IDRI-1011', 'LIDC-IDRI-0260', 'LIDC-IDRI-0144', 'LIDC-IDRI-0200', 'LIDC-IDRI-0636', 'LIDC-IDRI-0822', 'LIDC-IDRI-0350', 'LIDC-IDRI-0518', 'LIDC-IDRI-0726', 'LIDC-IDRI-0263', 'LIDC-IDRI-0705', 'LIDC-IDRI-0304', 'LIDC-IDRI-0785', 'LIDC-IDRI-0633', 'LIDC-IDRI-0258', 'LIDC-IDRI-0255', 'LIDC-IDRI-0466', 'LIDC-IDRI-0324', 'LIDC-IDRI-0193', 'LIDC-IDRI-0250', 'LIDC-IDRI-0783', 'LIDC-IDRI-0042', 'LIDC-IDRI-0147', 'LIDC-IDRI-1006', 'LIDC-IDRI-0842', 'LIDC-IDRI-0715', 'LIDC-IDRI-1009', 'LIDC-IDRI-0271', 'LIDC-IDRI-0620', 'LIDC-IDRI-0483', 'LIDC-IDRI-0906', 'LIDC-IDRI-0986', 'LIDC-IDRI-0692', 'LIDC-IDRI-0569', 'LIDC-IDRI-0108', 'LIDC-IDRI-0695', 'LIDC-IDRI-0334', 'LIDC-IDRI-0427', 'LIDC-IDRI-0227', 'LIDC-IDRI-0576', 'LIDC-IDRI-0020', 'LIDC-IDRI-0182', 'LIDC-IDRI-0264', 'LIDC-IDRI-0580', 'LIDC-IDRI-0719', 'LIDC-IDRI-0722', 'LIDC-IDRI-0041', 'LIDC-IDRI-0254', 'LIDC-IDRI-0872', 'LIDC-IDRI-0191', 'LIDC-IDRI-0434', 'LIDC-IDRI-0720', 'LIDC-IDRI-0870', 'LIDC-IDRI-0023', 'LIDC-IDRI-0533', 'LIDC-IDRI-0939', 'LIDC-IDRI-0459', 'LIDC-IDRI-0941', 'LIDC-IDRI-0841', 'LIDC-IDRI-0039', 'LIDC-IDRI-0083', 'LIDC-IDRI-0206', 'LIDC-IDRI-0266', 'LIDC-IDRI-0497', 'LIDC-IDRI-0812', 'LIDC-IDRI-0282', 'LIDC-IDRI-0098', 'LIDC-IDRI-0116', 'LIDC-IDRI-0272', 'LIDC-IDRI-0133', 'LIDC-IDRI-0694', 'LIDC-IDRI-0453', 'LIDC-IDRI-0156', 'LIDC-IDRI-0278', 'LIDC-IDRI-0688', 'LIDC-IDRI-0469', 'LIDC-IDRI-0105', 'LIDC-IDRI-0037', 'LIDC-IDRI-0596', 'LIDC-IDRI-0351', 'LIDC-IDRI-0910', 'LIDC-IDRI-0597', 'LIDC-IDRI-0162', 'LIDC-IDRI-0412', 'LIDC-IDRI-0678', 'LIDC-IDRI-0088', 'LIDC-IDRI-0699', 'LIDC-IDRI-0414', 'LIDC-IDRI-0543', 'LIDC-IDRI-0759', 'LIDC-IDRI-0315', 'LIDC-IDRI-0117', 'LIDC-IDRI-0539', 'LIDC-IDRI-0504', 'LIDC-IDRI-0625', 'LIDC-IDRI-0820', 'LIDC-IDRI-0914', 'LIDC-IDRI-0743', 'LIDC-IDRI-0010', 'LIDC-IDRI-0059', 'LIDC-IDRI-0570', 'LIDC-IDRI-0962', 'LIDC-IDRI-0134', 'LIDC-IDRI-0060', 'LIDC-IDRI-0641', 'LIDC-IDRI-0097', 'LIDC-IDRI-0241', 'LIDC-IDRI-0614', 'LIDC-IDRI-0789', 'LIDC-IDRI-0096', 'LIDC-IDRI-0122', 'LIDC-IDRI-0487', 'LIDC-IDRI-0437', 'LIDC-IDRI-0262', 'LIDC-IDRI-0648', 'LIDC-IDRI-0159', 'LIDC-IDRI-0618', 'LIDC-IDRI-0523', 'LIDC-IDRI-0305', 'LIDC-IDRI-0249', 'LIDC-IDRI-0335', 'LIDC-IDRI-0626', 'LIDC-IDRI-0158', 'LIDC-IDRI-0763', 'LIDC-IDRI-0670', 'LIDC-IDRI-0135', 'LIDC-IDRI-0024', 'LIDC-IDRI-0477', 'LIDC-IDRI-0510', 'LIDC-IDRI-0773', 'LIDC-IDRI-0077', 'LIDC-IDRI-0639', 'LIDC-IDRI-0520', 'LIDC-IDRI-0454', 'LIDC-IDRI-1005', 'LIDC-IDRI-0922', 'LIDC-IDRI-0139', 'LIDC-IDRI-0562', 'LIDC-IDRI-0109', 'LIDC-IDRI-0631', 'LIDC-IDRI-0235', 'LIDC-IDRI-0814', 'LIDC-IDRI-0436', 'LIDC-IDRI-0276', 'LIDC-IDRI-0281', 'LIDC-IDRI-0359', 'LIDC-IDRI-0475', 'LIDC-IDRI-0542', 'LIDC-IDRI-0778', 'LIDC-IDRI-0920', 'LIDC-IDRI-0078', 'LIDC-IDRI-0787', 'LIDC-IDRI-0127', 'LIDC-IDRI-0154', 'LIDC-IDRI-0823', 'LIDC-IDRI-0480', 'LIDC-IDRI-0036', 'LIDC-IDRI-0754', 'LIDC-IDRI-0063', 'LIDC-IDRI-0758', 'LIDC-IDRI-0781', 'LIDC-IDRI-0433', 'LIDC-IDRI-0554', 'LIDC-IDRI-0806', 'LIDC-IDRI-0126', 'LIDC-IDRI-0018', 'LIDC-IDRI-0849', 'LIDC-IDRI-0345', 'LIDC-IDRI-0212', 'LIDC-IDRI-0415', 'LIDC-IDRI-0534', 'LIDC-IDRI-0113', 'LIDC-IDRI-0419', 'LIDC-IDRI-0498', 'LIDC-IDRI-0232', 'LIDC-IDRI-0171', 'LIDC-IDRI-0902', 'LIDC-IDRI-0464', 'LIDC-IDRI-0973', 'LIDC-IDRI-0697', 'LIDC-IDRI-0429', 'LIDC-IDRI-0055', 'LIDC-IDRI-0770', 'LIDC-IDRI-1002', 'LIDC-IDRI-0136', 'LIDC-IDRI-0358', 'LIDC-IDRI-0522', 'LIDC-IDRI-0997', 'LIDC-IDRI-0320', 'LIDC-IDRI-0353', 'LIDC-IDRI-0404', 'LIDC-IDRI-0803', 'LIDC-IDRI-0873', 'LIDC-IDRI-0963', 'LIDC-IDRI-0031', 'LIDC-IDRI-0385', 'LIDC-IDRI-0635', 'LIDC-IDRI-0608', 'LIDC-IDRI-0809', 'LIDC-IDRI-0435', 'LIDC-IDRI-0093', 'LIDC-IDRI-0815', 'LIDC-IDRI-0148', 'LIDC-IDRI-0003', 'LIDC-IDRI-0442', 'LIDC-IDRI-0628', 'LIDC-IDRI-0981', 'LIDC-IDRI-0246', 'LIDC-IDRI-0011', 'LIDC-IDRI-0859', 'LIDC-IDRI-0742', 'LIDC-IDRI-0980', 'LIDC-IDRI-0567', 'LIDC-IDRI-0463', 'LIDC-IDRI-0869', 'LIDC-IDRI-0921', 'LIDC-IDRI-0114', 'LIDC-IDRI-0137', 'LIDC-IDRI-0269', 'LIDC-IDRI-0508', 'LIDC-IDRI-0149', 'LIDC-IDRI-0413', 'LIDC-IDRI-0431', 'LIDC-IDRI-0240', 'LIDC-IDRI-0938', 'LIDC-IDRI-0152', 'LIDC-IDRI-0150', 'LIDC-IDRI-0790', 'LIDC-IDRI-0833', 'LIDC-IDRI-0552', 'LIDC-IDRI-0337', 'LIDC-IDRI-0868', 'LIDC-IDRI-0601', 'LIDC-IDRI-0985', 'LIDC-IDRI-0574', 'LIDC-IDRI-0617', 'LIDC-IDRI-0222', 'LIDC-IDRI-0394', 'LIDC-IDRI-0595', 'LIDC-IDRI-0213', 'LIDC-IDRI-0736', 'LIDC-IDRI-0038', 'LIDC-IDRI-0371', 'LIDC-IDRI-0099', 'LIDC-IDRI-0405', 'LIDC-IDRI-0056', 'LIDC-IDRI-0640', 'LIDC-IDRI-0899', 'LIDC-IDRI-0187', 'LIDC-IDRI-0207', 'LIDC-IDRI-0026', 'LIDC-IDRI-0123', 'LIDC-IDRI-0499', 'LIDC-IDRI-0326', 'LIDC-IDRI-0831', 'LIDC-IDRI-0709', 'LIDC-IDRI-0793', 'LIDC-IDRI-0650', 'LIDC-IDRI-0767', 'LIDC-IDRI-0843', 'LIDC-IDRI-0925', 'LIDC-IDRI-0300', 'LIDC-IDRI-0727', 'LIDC-IDRI-0019', 'LIDC-IDRI-0766', 'LIDC-IDRI-0662', 'LIDC-IDRI-0824', 'LIDC-IDRI-0332', 'LIDC-IDRI-0924', 'LIDC-IDRI-0698', 'LIDC-IDRI-0369', 'LIDC-IDRI-0386', 'LIDC-IDRI-0913', 'LIDC-IDRI-0944', 'LIDC-IDRI-0602', 'LIDC-IDRI-0195', 'LIDC-IDRI-0296', 'LIDC-IDRI-0909', 'LIDC-IDRI-0951', 'LIDC-IDRI-0079', 'LIDC-IDRI-0479', 'LIDC-IDRI-0671', 'LIDC-IDRI-0666', 'LIDC-IDRI-0172', 'LIDC-IDRI-0048', 'LIDC-IDRI-0805', 'LIDC-IDRI-0381', 'LIDC-IDRI-0830', 'LIDC-IDRI-0091', 'LIDC-IDRI-0840', 'LIDC-IDRI-0365', 'LIDC-IDRI-0765', 'LIDC-IDRI-0610', 'LIDC-IDRI-0996', 'LIDC-IDRI-0572', 'LIDC-IDRI-0004', 'LIDC-IDRI-0398', 'LIDC-IDRI-0772', 'LIDC-IDRI-0586', 'LIDC-IDRI-0946', 'LIDC-IDRI-0661', 'LIDC-IDRI-0215', 'LIDC-IDRI-0462', 'LIDC-IDRI-0008', 'LIDC-IDRI-0203', 'LIDC-IDRI-0449', 'LIDC-IDRI-0081', 'LIDC-IDRI-0547', 'LIDC-IDRI-0723', 'LIDC-IDRI-0416', 'LIDC-IDRI-0947', 'LIDC-IDRI-0438', 'LIDC-IDRI-0940', 'LIDC-IDRI-0535', 'LIDC-IDRI-0356', 'LIDC-IDRI-0124', 'LIDC-IDRI-0310', 'LIDC-IDRI-0274', 'LIDC-IDRI-0642', 'LIDC-IDRI-0366', 'LIDC-IDRI-0492', 'LIDC-IDRI-0104', 'LIDC-IDRI-0120', 'LIDC-IDRI-0378', 'LIDC-IDRI-0516', 'LIDC-IDRI-0701', 'LIDC-IDRI-0974', 'LIDC-IDRI-0285', 'LIDC-IDRI-0199', 'LIDC-IDRI-0140', 'LIDC-IDRI-0458', 'LIDC-IDRI-0471', 'LIDC-IDRI-1010', 'LIDC-IDRI-0714', 'LIDC-IDRI-0898', 'LIDC-IDRI-0673', 'LIDC-IDRI-0708', 'LIDC-IDRI-0202', 'LIDC-IDRI-0581', 'LIDC-IDRI-0302', 'LIDC-IDRI-0865', 'LIDC-IDRI-0176', 'LIDC-IDRI-1012', 'LIDC-IDRI-0288', 'LIDC-IDRI-0069', 'LIDC-IDRI-0102', 'LIDC-IDRI-0280', 'LIDC-IDRI-0329', 'LIDC-IDRI-0524', 'LIDC-IDRI-0118', 'LIDC-IDRI-0221', 'LIDC-IDRI-0301', 'LIDC-IDRI-0741', 'LIDC-IDRI-0883', 'LIDC-IDRI-0165', 'LIDC-IDRI-0959', 'LIDC-IDRI-0095', 'LIDC-IDRI-0728', 'LIDC-IDRI-0935', 'LIDC-IDRI-0558', 'LIDC-IDRI-0852', 'LIDC-IDRI-0017', 'LIDC-IDRI-0654', 'LIDC-IDRI-0379', 'LIDC-IDRI-0847', 'LIDC-IDRI-0621', 'LIDC-IDRI-0107', 'LIDC-IDRI-0879', 'LIDC-IDRI-0161', 'LIDC-IDRI-0219', 'LIDC-IDRI-0119', 'LIDC-IDRI-0604', 'LIDC-IDRI-0112', 'LIDC-IDRI-0151', 'LIDC-IDRI-0706', 'LIDC-IDRI-0846', 'LIDC-IDRI-0406', 'LIDC-IDRI-0164', 'LIDC-IDRI-0146', 'LIDC-IDRI-0674', 'LIDC-IDRI-0424', 'LIDC-IDRI-0430', 'LIDC-IDRI-0798', 'LIDC-IDRI-0905', 'LIDC-IDRI-0015', 'LIDC-IDRI-0192', 'LIDC-IDRI-0827', 'LIDC-IDRI-0813', 'LIDC-IDRI-0949', 'LIDC-IDRI-0502', 'LIDC-IDRI-0792', 'LIDC-IDRI-0110', 'LIDC-IDRI-0312', 'LIDC-IDRI-0866', 'LIDC-IDRI-0919', 'LIDC-IDRI-0515', 'LIDC-IDRI-0007', 'LIDC-IDRI-0045', 'LIDC-IDRI-0034', 'LIDC-IDRI-0367', 'LIDC-IDRI-0551', 'LIDC-IDRI-0021', 'LIDC-IDRI-0460', 'LIDC-IDRI-0040', 'LIDC-IDRI-0495', 'LIDC-IDRI-0251', 'LIDC-IDRI-0915', 'LIDC-IDRI-0084', 'LIDC-IDRI-0153', 'LIDC-IDRI-0956', 'LIDC-IDRI-0984', 'LIDC-IDRI-0525', 'LIDC-IDRI-0779', 'LIDC-IDRI-0624', 'LIDC-IDRI-0645', 'LIDC-IDRI-0130', 'LIDC-IDRI-0341', 'LIDC-IDRI-0990', 'LIDC-IDRI-0886', 'LIDC-IDRI-1008', 'LIDC-IDRI-0183', 'LIDC-IDRI-0582', 'LIDC-IDRI-0075', 'LIDC-IDRI-0505', 'LIDC-IDRI-0749', 'LIDC-IDRI-0861', 'LIDC-IDRI-1007', 'LIDC-IDRI-0348', 'LIDC-IDRI-0194', 'LIDC-IDRI-0769', 'LIDC-IDRI-0092', 'LIDC-IDRI-0799', 'LIDC-IDRI-0786', 'LIDC-IDRI-0982', 'LIDC-IDRI-0818', 'LIDC-IDRI-0354', 'LIDC-IDRI-0443', 'LIDC-IDRI-0286', 'LIDC-IDRI-0012', 'LIDC-IDRI-0073', 'LIDC-IDRI-0484', 'LIDC-IDRI-0664', 'LIDC-IDRI-0676', 'LIDC-IDRI-0844', 'LIDC-IDRI-0819', 'LIDC-IDRI-0652', 'LIDC-IDRI-0556', 'LIDC-IDRI-0669'}\n",
      "All IDs in both datasets match.\n",
      "IDs only in metadata: set()\n",
      "IDs only in nodule: set()\n"
     ]
    }
   ],
   "source": [
    "%run pre-processamento.ipynb"
   ]
  },
  {
   "cell_type": "code",
   "execution_count": 3,
   "metadata": {},
   "outputs": [],
   "source": [
    "%run Target.ipynb"
   ]
  },
  {
   "cell_type": "markdown",
   "metadata": {},
   "source": [
    "## Putting All Together"
   ]
  },
  {
   "cell_type": "markdown",
   "metadata": {},
   "source": [
    "#### Join all dataframes from pre-processing notebook in a single one called main"
   ]
  },
  {
   "cell_type": "markdown",
   "metadata": {},
   "source": [
    "###### Selecting columns"
   ]
  },
  {
   "cell_type": "code",
   "execution_count": 4,
   "metadata": {},
   "outputs": [
    {
     "data": {
      "text/plain": [
       "Index(['Total Number of Nodules* ', 'Number of Nodules >=3mm**',\n",
       "       'Number of Nodules <3mm***'],\n",
       "      dtype='object')"
      ]
     },
     "execution_count": 4,
     "metadata": {},
     "output_type": "execute_result"
    }
   ],
   "source": [
    "nodule.columns"
   ]
  },
  {
   "cell_type": "code",
   "execution_count": 5,
   "metadata": {},
   "outputs": [
    {
     "data": {
      "text/plain": [
       "Index(['Diagnosis at the patient', 'Diagnosis Method',\n",
       "       'Primary tumor site for metastatic disease'],\n",
       "      dtype='object')"
      ]
     },
     "execution_count": 5,
     "metadata": {},
     "output_type": "execute_result"
    }
   ],
   "source": [
    "radiologists.columns"
   ]
  },
  {
   "cell_type": "code",
   "execution_count": 6,
   "metadata": {},
   "outputs": [
    {
     "data": {
      "text/plain": [
       "Index(['Study UID', 'Series ID', 'Number of images'], dtype='object')"
      ]
     },
     "execution_count": 6,
     "metadata": {},
     "output_type": "execute_result"
    }
   ],
   "source": [
    "metadata.columns"
   ]
  },
  {
   "cell_type": "code",
   "execution_count": 7,
   "metadata": {},
   "outputs": [],
   "source": [
    "cl_nodule = ['TCIA Patient ID', 'Total Number of Nodules*',\n",
    "       'Number of Nodules >=3mm**', 'Number of Nodules <3mm***']\n",
    "cl_radiologists= ['Diagnosis at the patient', 'Diagnosis Method',\n",
    "       'Primary tumor site for metastatic disease']\n",
    "cl_metadata=['Study UID', 'Series ID', 'Number of images']"
   ]
  },
  {
   "cell_type": "code",
   "execution_count": 8,
   "metadata": {
    "scrolled": true
   },
   "outputs": [
    {
     "data": {
      "text/html": [
       "<div>\n",
       "<style scoped>\n",
       "    .dataframe tbody tr th:only-of-type {\n",
       "        vertical-align: middle;\n",
       "    }\n",
       "\n",
       "    .dataframe tbody tr th {\n",
       "        vertical-align: top;\n",
       "    }\n",
       "\n",
       "    .dataframe thead th {\n",
       "        text-align: right;\n",
       "    }\n",
       "</style>\n",
       "<table border=\"1\" class=\"dataframe\">\n",
       "  <thead>\n",
       "    <tr style=\"text-align: right;\">\n",
       "      <th></th>\n",
       "      <th>Total Number of Nodules*</th>\n",
       "      <th>Number of Nodules &gt;=3mm**</th>\n",
       "      <th>Number of Nodules &lt;3mm***</th>\n",
       "      <th>Diagnosis at the patient</th>\n",
       "      <th>Diagnosis Method</th>\n",
       "      <th>Primary tumor site for metastatic disease</th>\n",
       "      <th>Study UID</th>\n",
       "      <th>Series ID</th>\n",
       "      <th>Number of images</th>\n",
       "      <th>average-malignancy</th>\n",
       "    </tr>\n",
       "  </thead>\n",
       "  <tbody>\n",
       "    <tr>\n",
       "      <th>LIDC-IDRI-0001</th>\n",
       "      <td>4</td>\n",
       "      <td>1</td>\n",
       "      <td>3</td>\n",
       "      <td>NaN</td>\n",
       "      <td>NaN</td>\n",
       "      <td>NaN</td>\n",
       "      <td>1.3.6.1.4.1.14519.5.2.1.6279.6001.175012972118...</td>\n",
       "      <td>1.3.6.1.4.1.14519.5.2.1.6279.6001.141365756818...</td>\n",
       "      <td>2</td>\n",
       "      <td>5 - Highly Suspicious</td>\n",
       "    </tr>\n",
       "    <tr>\n",
       "      <th>LIDC-IDRI-0002</th>\n",
       "      <td>12</td>\n",
       "      <td>1</td>\n",
       "      <td>11</td>\n",
       "      <td>NaN</td>\n",
       "      <td>NaN</td>\n",
       "      <td>NaN</td>\n",
       "      <td>1.3.6.1.4.1.14519.5.2.1.6279.6001.116951808801...</td>\n",
       "      <td>1.3.6.1.4.1.14519.5.2.1.6279.6001.493562949900...</td>\n",
       "      <td>1</td>\n",
       "      <td>4 - Moderately Suspicious</td>\n",
       "    </tr>\n",
       "    <tr>\n",
       "      <th>LIDC-IDRI-0003</th>\n",
       "      <td>4</td>\n",
       "      <td>4</td>\n",
       "      <td>0</td>\n",
       "      <td>NaN</td>\n",
       "      <td>NaN</td>\n",
       "      <td>NaN</td>\n",
       "      <td>1.3.6.1.4.1.14519.5.2.1.6279.6001.202063331127...</td>\n",
       "      <td>1.3.6.1.4.1.14519.5.2.1.6279.6001.142026812390...</td>\n",
       "      <td>5</td>\n",
       "      <td>4 - Moderately Suspicious</td>\n",
       "    </tr>\n",
       "    <tr>\n",
       "      <th>LIDC-IDRI-0004</th>\n",
       "      <td>4</td>\n",
       "      <td>1</td>\n",
       "      <td>3</td>\n",
       "      <td>NaN</td>\n",
       "      <td>NaN</td>\n",
       "      <td>NaN</td>\n",
       "      <td>1.3.6.1.4.1.14519.5.2.1.6279.6001.270617793094...</td>\n",
       "      <td>1.3.6.1.4.1.14519.5.2.1.6279.6001.210102868760...</td>\n",
       "      <td>1</td>\n",
       "      <td>1 - Highly Unlikely</td>\n",
       "    </tr>\n",
       "    <tr>\n",
       "      <th>LIDC-IDRI-0005</th>\n",
       "      <td>9</td>\n",
       "      <td>3</td>\n",
       "      <td>6</td>\n",
       "      <td>NaN</td>\n",
       "      <td>NaN</td>\n",
       "      <td>NaN</td>\n",
       "      <td>1.3.6.1.4.1.14519.5.2.1.6279.6001.263497132244...</td>\n",
       "      <td>1.3.6.1.4.1.14519.5.2.1.6279.6001.126797645619...</td>\n",
       "      <td>2</td>\n",
       "      <td>3 - Indeterminate</td>\n",
       "    </tr>\n",
       "    <tr>\n",
       "      <th>...</th>\n",
       "      <td>...</td>\n",
       "      <td>...</td>\n",
       "      <td>...</td>\n",
       "      <td>...</td>\n",
       "      <td>...</td>\n",
       "      <td>...</td>\n",
       "      <td>...</td>\n",
       "      <td>...</td>\n",
       "      <td>...</td>\n",
       "      <td>...</td>\n",
       "    </tr>\n",
       "    <tr>\n",
       "      <th>LIDC-IDRI-1008</th>\n",
       "      <td>7</td>\n",
       "      <td>6</td>\n",
       "      <td>1</td>\n",
       "      <td>NaN</td>\n",
       "      <td>NaN</td>\n",
       "      <td>NaN</td>\n",
       "      <td>1.3.6.1.4.1.14519.5.2.1.6279.6001.339975625902...</td>\n",
       "      <td>1.3.6.1.4.1.14519.5.2.1.6279.6001.332510758903...</td>\n",
       "      <td>115</td>\n",
       "      <td>2 - Moderately Unlikely</td>\n",
       "    </tr>\n",
       "    <tr>\n",
       "      <th>LIDC-IDRI-1009</th>\n",
       "      <td>2</td>\n",
       "      <td>1</td>\n",
       "      <td>1</td>\n",
       "      <td>NaN</td>\n",
       "      <td>NaN</td>\n",
       "      <td>NaN</td>\n",
       "      <td>1.3.6.1.4.1.14519.5.2.1.6279.6001.849069697860...</td>\n",
       "      <td>1.3.6.1.4.1.14519.5.2.1.6279.6001.855232435861...</td>\n",
       "      <td>125</td>\n",
       "      <td>2 - Moderately Unlikely</td>\n",
       "    </tr>\n",
       "    <tr>\n",
       "      <th>LIDC-IDRI-1010</th>\n",
       "      <td>10</td>\n",
       "      <td>1</td>\n",
       "      <td>9</td>\n",
       "      <td>NaN</td>\n",
       "      <td>NaN</td>\n",
       "      <td>NaN</td>\n",
       "      <td>1.3.6.1.4.1.14519.5.2.1.6279.6001.145373944605...</td>\n",
       "      <td>1.3.6.1.4.1.14519.5.2.1.6279.6001.550599855064...</td>\n",
       "      <td>252</td>\n",
       "      <td>2 - Moderately Unlikely</td>\n",
       "    </tr>\n",
       "    <tr>\n",
       "      <th>LIDC-IDRI-1011</th>\n",
       "      <td>4</td>\n",
       "      <td>4</td>\n",
       "      <td>0</td>\n",
       "      <td>3.0</td>\n",
       "      <td>2.0</td>\n",
       "      <td>Carcinoma</td>\n",
       "      <td>1.3.6.1.4.1.14519.5.2.1.6279.6001.287560874054...</td>\n",
       "      <td>1.3.6.1.4.1.14519.5.2.1.6279.6001.272123398257...</td>\n",
       "      <td>133</td>\n",
       "      <td>4 - Moderately Suspicious</td>\n",
       "    </tr>\n",
       "    <tr>\n",
       "      <th>LIDC-IDRI-1012</th>\n",
       "      <td>1</td>\n",
       "      <td>1</td>\n",
       "      <td>0</td>\n",
       "      <td>NaN</td>\n",
       "      <td>NaN</td>\n",
       "      <td>NaN</td>\n",
       "      <td>1.3.6.1.4.1.14519.5.2.1.6279.6001.676549258486...</td>\n",
       "      <td>1.3.6.1.4.1.14519.5.2.1.6279.6001.153646219551...</td>\n",
       "      <td>166</td>\n",
       "      <td>2 - Moderately Unlikely</td>\n",
       "    </tr>\n",
       "  </tbody>\n",
       "</table>\n",
       "<p>875 rows × 10 columns</p>\n",
       "</div>"
      ],
      "text/plain": [
       "                Total Number of Nodules*   Number of Nodules >=3mm**  \\\n",
       "LIDC-IDRI-0001                          4                          1   \n",
       "LIDC-IDRI-0002                         12                          1   \n",
       "LIDC-IDRI-0003                          4                          4   \n",
       "LIDC-IDRI-0004                          4                          1   \n",
       "LIDC-IDRI-0005                          9                          3   \n",
       "...                                   ...                        ...   \n",
       "LIDC-IDRI-1008                          7                          6   \n",
       "LIDC-IDRI-1009                          2                          1   \n",
       "LIDC-IDRI-1010                         10                          1   \n",
       "LIDC-IDRI-1011                          4                          4   \n",
       "LIDC-IDRI-1012                          1                          1   \n",
       "\n",
       "                Number of Nodules <3mm***  Diagnosis at the patient  \\\n",
       "LIDC-IDRI-0001                          3                       NaN   \n",
       "LIDC-IDRI-0002                         11                       NaN   \n",
       "LIDC-IDRI-0003                          0                       NaN   \n",
       "LIDC-IDRI-0004                          3                       NaN   \n",
       "LIDC-IDRI-0005                          6                       NaN   \n",
       "...                                   ...                       ...   \n",
       "LIDC-IDRI-1008                          1                       NaN   \n",
       "LIDC-IDRI-1009                          1                       NaN   \n",
       "LIDC-IDRI-1010                          9                       NaN   \n",
       "LIDC-IDRI-1011                          0                       3.0   \n",
       "LIDC-IDRI-1012                          0                       NaN   \n",
       "\n",
       "                Diagnosis Method Primary tumor site for metastatic disease  \\\n",
       "LIDC-IDRI-0001               NaN                                       NaN   \n",
       "LIDC-IDRI-0002               NaN                                       NaN   \n",
       "LIDC-IDRI-0003               NaN                                       NaN   \n",
       "LIDC-IDRI-0004               NaN                                       NaN   \n",
       "LIDC-IDRI-0005               NaN                                       NaN   \n",
       "...                          ...                                       ...   \n",
       "LIDC-IDRI-1008               NaN                                       NaN   \n",
       "LIDC-IDRI-1009               NaN                                       NaN   \n",
       "LIDC-IDRI-1010               NaN                                       NaN   \n",
       "LIDC-IDRI-1011               2.0                                 Carcinoma   \n",
       "LIDC-IDRI-1012               NaN                                       NaN   \n",
       "\n",
       "                                                        Study UID  \\\n",
       "LIDC-IDRI-0001  1.3.6.1.4.1.14519.5.2.1.6279.6001.175012972118...   \n",
       "LIDC-IDRI-0002  1.3.6.1.4.1.14519.5.2.1.6279.6001.116951808801...   \n",
       "LIDC-IDRI-0003  1.3.6.1.4.1.14519.5.2.1.6279.6001.202063331127...   \n",
       "LIDC-IDRI-0004  1.3.6.1.4.1.14519.5.2.1.6279.6001.270617793094...   \n",
       "LIDC-IDRI-0005  1.3.6.1.4.1.14519.5.2.1.6279.6001.263497132244...   \n",
       "...                                                           ...   \n",
       "LIDC-IDRI-1008  1.3.6.1.4.1.14519.5.2.1.6279.6001.339975625902...   \n",
       "LIDC-IDRI-1009  1.3.6.1.4.1.14519.5.2.1.6279.6001.849069697860...   \n",
       "LIDC-IDRI-1010  1.3.6.1.4.1.14519.5.2.1.6279.6001.145373944605...   \n",
       "LIDC-IDRI-1011  1.3.6.1.4.1.14519.5.2.1.6279.6001.287560874054...   \n",
       "LIDC-IDRI-1012  1.3.6.1.4.1.14519.5.2.1.6279.6001.676549258486...   \n",
       "\n",
       "                                                        Series ID  \\\n",
       "LIDC-IDRI-0001  1.3.6.1.4.1.14519.5.2.1.6279.6001.141365756818...   \n",
       "LIDC-IDRI-0002  1.3.6.1.4.1.14519.5.2.1.6279.6001.493562949900...   \n",
       "LIDC-IDRI-0003  1.3.6.1.4.1.14519.5.2.1.6279.6001.142026812390...   \n",
       "LIDC-IDRI-0004  1.3.6.1.4.1.14519.5.2.1.6279.6001.210102868760...   \n",
       "LIDC-IDRI-0005  1.3.6.1.4.1.14519.5.2.1.6279.6001.126797645619...   \n",
       "...                                                           ...   \n",
       "LIDC-IDRI-1008  1.3.6.1.4.1.14519.5.2.1.6279.6001.332510758903...   \n",
       "LIDC-IDRI-1009  1.3.6.1.4.1.14519.5.2.1.6279.6001.855232435861...   \n",
       "LIDC-IDRI-1010  1.3.6.1.4.1.14519.5.2.1.6279.6001.550599855064...   \n",
       "LIDC-IDRI-1011  1.3.6.1.4.1.14519.5.2.1.6279.6001.272123398257...   \n",
       "LIDC-IDRI-1012  1.3.6.1.4.1.14519.5.2.1.6279.6001.153646219551...   \n",
       "\n",
       "                Number of images         average-malignancy  \n",
       "LIDC-IDRI-0001                 2      5 - Highly Suspicious  \n",
       "LIDC-IDRI-0002                 1  4 - Moderately Suspicious  \n",
       "LIDC-IDRI-0003                 5  4 - Moderately Suspicious  \n",
       "LIDC-IDRI-0004                 1        1 - Highly Unlikely  \n",
       "LIDC-IDRI-0005                 2          3 - Indeterminate  \n",
       "...                          ...                        ...  \n",
       "LIDC-IDRI-1008               115    2 - Moderately Unlikely  \n",
       "LIDC-IDRI-1009               125    2 - Moderately Unlikely  \n",
       "LIDC-IDRI-1010               252    2 - Moderately Unlikely  \n",
       "LIDC-IDRI-1011               133  4 - Moderately Suspicious  \n",
       "LIDC-IDRI-1012               166    2 - Moderately Unlikely  \n",
       "\n",
       "[875 rows x 10 columns]"
      ]
     },
     "execution_count": 8,
     "metadata": {},
     "output_type": "execute_result"
    }
   ],
   "source": [
    "# main = pd.DataFrame({\n",
    "#         'Id': nodule['TCIA Patient ID'],\n",
    "#         'Total Number of Nodules*' : nodule['Total Number of Nodules* '],\n",
    "#         'Number of Nodules >=3mm**': nodule['Number of Nodules >=3mm**'],\n",
    "#         'Number of Nodules <3mm***': nodule['Number of Nodules <3mm***'],\n",
    "#         'Diagnosis at the patient': radiologists['Diagnosis at the patient'],\n",
    "#         'Diagnosis Method': radiologists['Diagnosis Method'],\n",
    "#         'Primary tumor site for metastatic disease': radiologists['Primary tumor site for metastatic disease'],\n",
    "#         'Study UID': metadata['Study UID'],\n",
    "#         'Series ID': metadata['Series ID'],\n",
    "#         'Number of images': metadata['Number of images'],\n",
    "# })\n",
    "main = pd.concat([nodule, radiologists, metadata, target], axis=1)\n",
    "main"
   ]
  },
  {
   "cell_type": "code",
   "execution_count": 10,
   "metadata": {},
   "outputs": [],
   "source": [
    "# get_common_ids(main, 'Id', nodule, 'TCIA Patient ID')\n",
    "# main.dropna(subset=['Id'])"
   ]
  },
  {
   "cell_type": "code",
   "execution_count": 11,
   "metadata": {},
   "outputs": [
    {
     "name": "stdout",
     "output_type": "stream",
     "text": [
      "Missing values in Total Number of Nodules* : 0\n",
      "Missing values in Number of Nodules >=3mm**: 0\n",
      "Missing values in Number of Nodules <3mm***: 0\n",
      "Missing values in Diagnosis at the patient: 757\n",
      "Missing values in Diagnosis Method: 757\n",
      "Missing values in Primary tumor site for metastatic disease: 757\n",
      "Missing values in Study UID: 0\n",
      "Missing values in Series ID: 0\n",
      "Missing values in Number of images: 0\n",
      "Missing values in average-malignancy: 0\n"
     ]
    }
   ],
   "source": [
    "missing_data(main)"
   ]
  },
  {
   "cell_type": "code",
   "execution_count": 12,
   "metadata": {},
   "outputs": [],
   "source": [
    "# remove_missing_data(main, 'Id')"
   ]
  },
  {
   "cell_type": "code",
   "execution_count": null,
   "metadata": {},
   "outputs": [],
   "source": [
    "# missing_data(main)"
   ]
  },
  {
   "cell_type": "code",
   "execution_count": 13,
   "metadata": {},
   "outputs": [
    {
     "data": {
      "text/plain": [
       "(875, 10)"
      ]
     },
     "execution_count": 13,
     "metadata": {},
     "output_type": "execute_result"
    }
   ],
   "source": [
    "main.shape"
   ]
  },
  {
   "cell_type": "markdown",
   "metadata": {},
   "source": [
    "#### Exportation of the DataFrame to a .csv file so it can be used on another notebook"
   ]
  },
  {
   "cell_type": "code",
   "execution_count": 15,
   "metadata": {},
   "outputs": [],
   "source": [
    "main.to_csv('main.csv', index=False)"
   ]
  }
 ],
 "metadata": {
  "kernelspec": {
   "display_name": "Python 3 (ipykernel)",
   "language": "python",
   "name": "python3"
  },
  "language_info": {
   "codemirror_mode": {
    "name": "ipython",
    "version": 3
   },
   "file_extension": ".py",
   "mimetype": "text/x-python",
   "name": "python",
   "nbconvert_exporter": "python",
   "pygments_lexer": "ipython3",
   "version": "3.9.5"
  }
 },
 "nbformat": 4,
 "nbformat_minor": 2
}
